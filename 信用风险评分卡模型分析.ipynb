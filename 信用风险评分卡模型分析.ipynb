{
 "cells": [
  {
   "cell_type": "code",
   "execution_count": 1,
   "metadata": {
    "ExecuteTime": {
     "end_time": "2020-08-20T07:18:31.254492Z",
     "start_time": "2020-08-20T07:18:30.509321Z"
    }
   },
   "outputs": [],
   "source": [
    "import numpy as np\n",
    "import pandas as pd\n",
    "import matplotlib.pyplot as plt\n",
    "import seaborn as sns\n",
    "%matplotlib inline"
   ]
  },
  {
   "cell_type": "code",
   "execution_count": 2,
   "metadata": {
    "ExecuteTime": {
     "end_time": "2020-08-20T07:18:31.970965Z",
     "start_time": "2020-08-20T07:18:31.940048Z"
    }
   },
   "outputs": [
    {
     "data": {
      "text/html": [
       "<div>\n",
       "<style scoped>\n",
       "    .dataframe tbody tr th:only-of-type {\n",
       "        vertical-align: middle;\n",
       "    }\n",
       "\n",
       "    .dataframe tbody tr th {\n",
       "        vertical-align: top;\n",
       "    }\n",
       "\n",
       "    .dataframe thead th {\n",
       "        text-align: right;\n",
       "    }\n",
       "</style>\n",
       "<table border=\"1\" class=\"dataframe\">\n",
       "  <thead>\n",
       "    <tr style=\"text-align: right;\">\n",
       "      <th></th>\n",
       "      <th>Unnamed: 0</th>\n",
       "      <th>Unnamed: 1</th>\n",
       "      <th>Unnamed: 2</th>\n",
       "    </tr>\n",
       "  </thead>\n",
       "  <tbody>\n",
       "    <tr>\n",
       "      <th>0</th>\n",
       "      <td>Variable Name</td>\n",
       "      <td>Description</td>\n",
       "      <td>Type</td>\n",
       "    </tr>\n",
       "    <tr>\n",
       "      <th>1</th>\n",
       "      <td>SeriousDlqin2yrs</td>\n",
       "      <td>Person experienced 90 days past due delinquenc...</td>\n",
       "      <td>Y/N</td>\n",
       "    </tr>\n",
       "    <tr>\n",
       "      <th>2</th>\n",
       "      <td>RevolvingUtilizationOfUnsecuredLines</td>\n",
       "      <td>Total balance on credit cards and personal lin...</td>\n",
       "      <td>percentage</td>\n",
       "    </tr>\n",
       "    <tr>\n",
       "      <th>3</th>\n",
       "      <td>age</td>\n",
       "      <td>Age of borrower in years</td>\n",
       "      <td>integer</td>\n",
       "    </tr>\n",
       "    <tr>\n",
       "      <th>4</th>\n",
       "      <td>NumberOfTime30-59DaysPastDueNotWorse</td>\n",
       "      <td>Number of times borrower has been 30-59 days p...</td>\n",
       "      <td>integer</td>\n",
       "    </tr>\n",
       "    <tr>\n",
       "      <th>5</th>\n",
       "      <td>DebtRatio</td>\n",
       "      <td>Monthly debt payments, alimony,living costs di...</td>\n",
       "      <td>percentage</td>\n",
       "    </tr>\n",
       "    <tr>\n",
       "      <th>6</th>\n",
       "      <td>MonthlyIncome</td>\n",
       "      <td>Monthly income</td>\n",
       "      <td>real</td>\n",
       "    </tr>\n",
       "    <tr>\n",
       "      <th>7</th>\n",
       "      <td>NumberOfOpenCreditLinesAndLoans</td>\n",
       "      <td>Number of Open loans (installment like car loa...</td>\n",
       "      <td>integer</td>\n",
       "    </tr>\n",
       "    <tr>\n",
       "      <th>8</th>\n",
       "      <td>NumberOfTimes90DaysLate</td>\n",
       "      <td>Number of times borrower has been 90 days or m...</td>\n",
       "      <td>integer</td>\n",
       "    </tr>\n",
       "    <tr>\n",
       "      <th>9</th>\n",
       "      <td>NumberRealEstateLoansOrLines</td>\n",
       "      <td>Number of mortgage and real estate loans inclu...</td>\n",
       "      <td>integer</td>\n",
       "    </tr>\n",
       "    <tr>\n",
       "      <th>10</th>\n",
       "      <td>NumberOfTime60-89DaysPastDueNotWorse</td>\n",
       "      <td>Number of times borrower has been 60-89 days p...</td>\n",
       "      <td>integer</td>\n",
       "    </tr>\n",
       "    <tr>\n",
       "      <th>11</th>\n",
       "      <td>NumberOfDependents</td>\n",
       "      <td>Number of dependents in family excluding thems...</td>\n",
       "      <td>integer</td>\n",
       "    </tr>\n",
       "  </tbody>\n",
       "</table>\n",
       "</div>"
      ],
      "text/plain": [
       "                              Unnamed: 0  \\\n",
       "0                          Variable Name   \n",
       "1                       SeriousDlqin2yrs   \n",
       "2   RevolvingUtilizationOfUnsecuredLines   \n",
       "3                                    age   \n",
       "4   NumberOfTime30-59DaysPastDueNotWorse   \n",
       "5                              DebtRatio   \n",
       "6                          MonthlyIncome   \n",
       "7        NumberOfOpenCreditLinesAndLoans   \n",
       "8                NumberOfTimes90DaysLate   \n",
       "9           NumberRealEstateLoansOrLines   \n",
       "10  NumberOfTime60-89DaysPastDueNotWorse   \n",
       "11                    NumberOfDependents   \n",
       "\n",
       "                                           Unnamed: 1  Unnamed: 2  \n",
       "0                                         Description        Type  \n",
       "1   Person experienced 90 days past due delinquenc...         Y/N  \n",
       "2   Total balance on credit cards and personal lin...  percentage  \n",
       "3                            Age of borrower in years     integer  \n",
       "4   Number of times borrower has been 30-59 days p...     integer  \n",
       "5   Monthly debt payments, alimony,living costs di...  percentage  \n",
       "6                                      Monthly income        real  \n",
       "7   Number of Open loans (installment like car loa...     integer  \n",
       "8   Number of times borrower has been 90 days or m...     integer  \n",
       "9   Number of mortgage and real estate loans inclu...     integer  \n",
       "10  Number of times borrower has been 60-89 days p...     integer  \n",
       "11  Number of dependents in family excluding thems...     integer  "
      ]
     },
     "execution_count": 2,
     "metadata": {},
     "output_type": "execute_result"
    }
   ],
   "source": [
    "# 标量的基本情况，变量名称、描述和类型\n",
    "pd.read_excel(\"./data/Data Dictionary.xls\")"
   ]
  },
  {
   "cell_type": "code",
   "execution_count": 3,
   "metadata": {
    "ExecuteTime": {
     "end_time": "2020-08-20T07:18:32.385600Z",
     "start_time": "2020-08-20T07:18:32.364626Z"
    }
   },
   "outputs": [
    {
     "data": {
      "text/html": [
       "<div>\n",
       "<style scoped>\n",
       "    .dataframe tbody tr th:only-of-type {\n",
       "        vertical-align: middle;\n",
       "    }\n",
       "\n",
       "    .dataframe tbody tr th {\n",
       "        vertical-align: top;\n",
       "    }\n",
       "\n",
       "    .dataframe thead th {\n",
       "        text-align: right;\n",
       "    }\n",
       "</style>\n",
       "<table border=\"1\" class=\"dataframe\">\n",
       "  <thead>\n",
       "    <tr style=\"text-align: right;\">\n",
       "      <th></th>\n",
       "      <th>变量名字</th>\n",
       "      <th>描述</th>\n",
       "      <th>类型</th>\n",
       "    </tr>\n",
       "  </thead>\n",
       "  <tbody>\n",
       "    <tr>\n",
       "      <th>0</th>\n",
       "      <td>SeriousDlqin2yrs</td>\n",
       "      <td>好坏客户</td>\n",
       "      <td>Y/N</td>\n",
       "    </tr>\n",
       "    <tr>\n",
       "      <th>1</th>\n",
       "      <td>RevolvingUtilizationOfUnsecuredLines</td>\n",
       "      <td>信用卡和个人信用额度的总余额，除了房地产和没有分期付款债务，如汽车贷款除以信用额度</td>\n",
       "      <td>percentage</td>\n",
       "    </tr>\n",
       "    <tr>\n",
       "      <th>2</th>\n",
       "      <td>age</td>\n",
       "      <td>出生年龄</td>\n",
       "      <td>integer</td>\n",
       "    </tr>\n",
       "    <tr>\n",
       "      <th>3</th>\n",
       "      <td>NumberOfTime30-59DaysPastDueNotWorse</td>\n",
       "      <td>过去两年借款35-59天逾期但是不糟糕的次数</td>\n",
       "      <td>integer</td>\n",
       "    </tr>\n",
       "    <tr>\n",
       "      <th>4</th>\n",
       "      <td>DebtRatio</td>\n",
       "      <td>每月债务支付、赡养费、生活费用除以毛利</td>\n",
       "      <td>percentage</td>\n",
       "    </tr>\n",
       "    <tr>\n",
       "      <th>5</th>\n",
       "      <td>MonthlyIncome</td>\n",
       "      <td>月收入</td>\n",
       "      <td>real</td>\n",
       "    </tr>\n",
       "    <tr>\n",
       "      <th>6</th>\n",
       "      <td>NumberOfOpenCreditLinesAndLoans</td>\n",
       "      <td>开放式贷款（分期付款汽车贷款或抵押贷款）和信用额度（信用卡）的次数</td>\n",
       "      <td>integer</td>\n",
       "    </tr>\n",
       "    <tr>\n",
       "      <th>7</th>\n",
       "      <td>NumberOfTimes90DaysLate</td>\n",
       "      <td>&gt;= 90天逾期</td>\n",
       "      <td>integer</td>\n",
       "    </tr>\n",
       "    <tr>\n",
       "      <th>8</th>\n",
       "      <td>NumberRealEstateLoansOrLines</td>\n",
       "      <td>抵押贷款和房地产贷款包括房屋净值信贷额度</td>\n",
       "      <td>integer</td>\n",
       "    </tr>\n",
       "    <tr>\n",
       "      <th>9</th>\n",
       "      <td>NumberOfTime60-89DaysPastDueNotWorse</td>\n",
       "      <td>过去两年借款60-89天逾期但是不糟糕的次数</td>\n",
       "      <td>integer</td>\n",
       "    </tr>\n",
       "    <tr>\n",
       "      <th>10</th>\n",
       "      <td>NumberOfDependents</td>\n",
       "      <td>家属数量不包括自己</td>\n",
       "      <td>integer</td>\n",
       "    </tr>\n",
       "  </tbody>\n",
       "</table>\n",
       "</div>"
      ],
      "text/plain": [
       "                                    变量名字  \\\n",
       "0                       SeriousDlqin2yrs   \n",
       "1   RevolvingUtilizationOfUnsecuredLines   \n",
       "2                                    age   \n",
       "3   NumberOfTime30-59DaysPastDueNotWorse   \n",
       "4                              DebtRatio   \n",
       "5                          MonthlyIncome   \n",
       "6        NumberOfOpenCreditLinesAndLoans   \n",
       "7                NumberOfTimes90DaysLate   \n",
       "8           NumberRealEstateLoansOrLines   \n",
       "9   NumberOfTime60-89DaysPastDueNotWorse   \n",
       "10                    NumberOfDependents   \n",
       "\n",
       "                                           描述          类型  \n",
       "0                                        好坏客户         Y/N  \n",
       "1   信用卡和个人信用额度的总余额，除了房地产和没有分期付款债务，如汽车贷款除以信用额度  percentage  \n",
       "2                                        出生年龄     integer  \n",
       "3                      过去两年借款35-59天逾期但是不糟糕的次数     integer  \n",
       "4                         每月债务支付、赡养费、生活费用除以毛利  percentage  \n",
       "5                                         月收入        real  \n",
       "6           开放式贷款（分期付款汽车贷款或抵押贷款）和信用额度（信用卡）的次数     integer  \n",
       "7                                    >= 90天逾期     integer  \n",
       "8                        抵押贷款和房地产贷款包括房屋净值信贷额度     integer  \n",
       "9                      过去两年借款60-89天逾期但是不糟糕的次数     integer  \n",
       "10                                  家属数量不包括自己     integer  "
      ]
     },
     "execution_count": 3,
     "metadata": {},
     "output_type": "execute_result"
    }
   ],
   "source": [
    "pd.read_excel(\"./data/数据属性.xlsx\")"
   ]
  },
  {
   "cell_type": "code",
   "execution_count": 4,
   "metadata": {
    "ExecuteTime": {
     "end_time": "2020-08-20T07:18:33.047289Z",
     "start_time": "2020-08-20T07:18:32.916554Z"
    }
   },
   "outputs": [],
   "source": [
    "df = pd.read_csv(\"./data/cs-training.csv\").drop(\"Unnamed: 0\", axis=1)"
   ]
  },
  {
   "cell_type": "code",
   "execution_count": 5,
   "metadata": {
    "ExecuteTime": {
     "end_time": "2020-08-20T07:18:33.308837Z",
     "start_time": "2020-08-20T07:18:33.295872Z"
    }
   },
   "outputs": [
    {
     "data": {
      "text/html": [
       "<div>\n",
       "<style scoped>\n",
       "    .dataframe tbody tr th:only-of-type {\n",
       "        vertical-align: middle;\n",
       "    }\n",
       "\n",
       "    .dataframe tbody tr th {\n",
       "        vertical-align: top;\n",
       "    }\n",
       "\n",
       "    .dataframe thead th {\n",
       "        text-align: right;\n",
       "    }\n",
       "</style>\n",
       "<table border=\"1\" class=\"dataframe\">\n",
       "  <thead>\n",
       "    <tr style=\"text-align: right;\">\n",
       "      <th></th>\n",
       "      <th>SeriousDlqin2yrs</th>\n",
       "      <th>RevolvingUtilizationOfUnsecuredLines</th>\n",
       "      <th>age</th>\n",
       "      <th>NumberOfTime30-59DaysPastDueNotWorse</th>\n",
       "      <th>DebtRatio</th>\n",
       "      <th>MonthlyIncome</th>\n",
       "      <th>NumberOfOpenCreditLinesAndLoans</th>\n",
       "      <th>NumberOfTimes90DaysLate</th>\n",
       "      <th>NumberRealEstateLoansOrLines</th>\n",
       "      <th>NumberOfTime60-89DaysPastDueNotWorse</th>\n",
       "      <th>NumberOfDependents</th>\n",
       "    </tr>\n",
       "  </thead>\n",
       "  <tbody>\n",
       "    <tr>\n",
       "      <th>0</th>\n",
       "      <td>1</td>\n",
       "      <td>0.766127</td>\n",
       "      <td>45</td>\n",
       "      <td>2</td>\n",
       "      <td>0.802982</td>\n",
       "      <td>9120.0</td>\n",
       "      <td>13</td>\n",
       "      <td>0</td>\n",
       "      <td>6</td>\n",
       "      <td>0</td>\n",
       "      <td>2.0</td>\n",
       "    </tr>\n",
       "    <tr>\n",
       "      <th>1</th>\n",
       "      <td>0</td>\n",
       "      <td>0.957151</td>\n",
       "      <td>40</td>\n",
       "      <td>0</td>\n",
       "      <td>0.121876</td>\n",
       "      <td>2600.0</td>\n",
       "      <td>4</td>\n",
       "      <td>0</td>\n",
       "      <td>0</td>\n",
       "      <td>0</td>\n",
       "      <td>1.0</td>\n",
       "    </tr>\n",
       "    <tr>\n",
       "      <th>2</th>\n",
       "      <td>0</td>\n",
       "      <td>0.658180</td>\n",
       "      <td>38</td>\n",
       "      <td>1</td>\n",
       "      <td>0.085113</td>\n",
       "      <td>3042.0</td>\n",
       "      <td>2</td>\n",
       "      <td>1</td>\n",
       "      <td>0</td>\n",
       "      <td>0</td>\n",
       "      <td>0.0</td>\n",
       "    </tr>\n",
       "    <tr>\n",
       "      <th>3</th>\n",
       "      <td>0</td>\n",
       "      <td>0.233810</td>\n",
       "      <td>30</td>\n",
       "      <td>0</td>\n",
       "      <td>0.036050</td>\n",
       "      <td>3300.0</td>\n",
       "      <td>5</td>\n",
       "      <td>0</td>\n",
       "      <td>0</td>\n",
       "      <td>0</td>\n",
       "      <td>0.0</td>\n",
       "    </tr>\n",
       "    <tr>\n",
       "      <th>4</th>\n",
       "      <td>0</td>\n",
       "      <td>0.907239</td>\n",
       "      <td>49</td>\n",
       "      <td>1</td>\n",
       "      <td>0.024926</td>\n",
       "      <td>63588.0</td>\n",
       "      <td>7</td>\n",
       "      <td>0</td>\n",
       "      <td>1</td>\n",
       "      <td>0</td>\n",
       "      <td>0.0</td>\n",
       "    </tr>\n",
       "  </tbody>\n",
       "</table>\n",
       "</div>"
      ],
      "text/plain": [
       "   SeriousDlqin2yrs  RevolvingUtilizationOfUnsecuredLines  age  \\\n",
       "0                 1                              0.766127   45   \n",
       "1                 0                              0.957151   40   \n",
       "2                 0                              0.658180   38   \n",
       "3                 0                              0.233810   30   \n",
       "4                 0                              0.907239   49   \n",
       "\n",
       "   NumberOfTime30-59DaysPastDueNotWorse  DebtRatio  MonthlyIncome  \\\n",
       "0                                     2   0.802982         9120.0   \n",
       "1                                     0   0.121876         2600.0   \n",
       "2                                     1   0.085113         3042.0   \n",
       "3                                     0   0.036050         3300.0   \n",
       "4                                     1   0.024926        63588.0   \n",
       "\n",
       "   NumberOfOpenCreditLinesAndLoans  NumberOfTimes90DaysLate  \\\n",
       "0                               13                        0   \n",
       "1                                4                        0   \n",
       "2                                2                        1   \n",
       "3                                5                        0   \n",
       "4                                7                        0   \n",
       "\n",
       "   NumberRealEstateLoansOrLines  NumberOfTime60-89DaysPastDueNotWorse  \\\n",
       "0                             6                                     0   \n",
       "1                             0                                     0   \n",
       "2                             0                                     0   \n",
       "3                             0                                     0   \n",
       "4                             1                                     0   \n",
       "\n",
       "   NumberOfDependents  \n",
       "0                 2.0  \n",
       "1                 1.0  \n",
       "2                 0.0  \n",
       "3                 0.0  \n",
       "4                 0.0  "
      ]
     },
     "execution_count": 5,
     "metadata": {},
     "output_type": "execute_result"
    }
   ],
   "source": [
    "df.head()"
   ]
  },
  {
   "cell_type": "code",
   "execution_count": 6,
   "metadata": {
    "ExecuteTime": {
     "end_time": "2020-08-20T07:18:33.661618Z",
     "start_time": "2020-08-20T07:18:33.645691Z"
    }
   },
   "outputs": [
    {
     "name": "stdout",
     "output_type": "stream",
     "text": [
      "<class 'pandas.core.frame.DataFrame'>\n",
      "RangeIndex: 150000 entries, 0 to 149999\n",
      "Data columns (total 11 columns):\n",
      " #   Column                                Non-Null Count   Dtype  \n",
      "---  ------                                --------------   -----  \n",
      " 0   SeriousDlqin2yrs                      150000 non-null  int64  \n",
      " 1   RevolvingUtilizationOfUnsecuredLines  150000 non-null  float64\n",
      " 2   age                                   150000 non-null  int64  \n",
      " 3   NumberOfTime30-59DaysPastDueNotWorse  150000 non-null  int64  \n",
      " 4   DebtRatio                             150000 non-null  float64\n",
      " 5   MonthlyIncome                         120269 non-null  float64\n",
      " 6   NumberOfOpenCreditLinesAndLoans       150000 non-null  int64  \n",
      " 7   NumberOfTimes90DaysLate               150000 non-null  int64  \n",
      " 8   NumberRealEstateLoansOrLines          150000 non-null  int64  \n",
      " 9   NumberOfTime60-89DaysPastDueNotWorse  150000 non-null  int64  \n",
      " 10  NumberOfDependents                    146076 non-null  float64\n",
      "dtypes: float64(4), int64(7)\n",
      "memory usage: 12.6 MB\n"
     ]
    }
   ],
   "source": [
    "df.info()"
   ]
  },
  {
   "cell_type": "markdown",
   "metadata": {},
   "source": [
    "通过 info() 可以看出一共有150000条信息，MonthyIncome 和 NumberOfDependents 存在缺失的情况，MonthyIncome 缺失29731个数据，NumberOfDependents 缺失3924个数据。"
   ]
  },
  {
   "cell_type": "markdown",
   "metadata": {},
   "source": [
    "下面使用 describe() 来看数据集中的计数、均值、最大最小值、标准差和第一、二、三个四分位值，同时增加了缺失率的计算"
   ]
  },
  {
   "cell_type": "code",
   "execution_count": 7,
   "metadata": {
    "ExecuteTime": {
     "end_time": "2020-08-20T07:18:34.466057Z",
     "start_time": "2020-08-20T07:18:34.363304Z"
    }
   },
   "outputs": [
    {
     "data": {
      "text/html": [
       "<div>\n",
       "<style scoped>\n",
       "    .dataframe tbody tr th:only-of-type {\n",
       "        vertical-align: middle;\n",
       "    }\n",
       "\n",
       "    .dataframe tbody tr th {\n",
       "        vertical-align: top;\n",
       "    }\n",
       "\n",
       "    .dataframe thead th {\n",
       "        text-align: right;\n",
       "    }\n",
       "</style>\n",
       "<table border=\"1\" class=\"dataframe\">\n",
       "  <thead>\n",
       "    <tr style=\"text-align: right;\">\n",
       "      <th></th>\n",
       "      <th>count</th>\n",
       "      <th>mean</th>\n",
       "      <th>std</th>\n",
       "      <th>min</th>\n",
       "      <th>25%</th>\n",
       "      <th>50%</th>\n",
       "      <th>75%</th>\n",
       "      <th>max</th>\n",
       "      <th>missing_rate</th>\n",
       "    </tr>\n",
       "  </thead>\n",
       "  <tbody>\n",
       "    <tr>\n",
       "      <th>SeriousDlqin2yrs</th>\n",
       "      <td>150000.0</td>\n",
       "      <td>0.066840</td>\n",
       "      <td>0.249746</td>\n",
       "      <td>0.0</td>\n",
       "      <td>0.000000</td>\n",
       "      <td>0.000000</td>\n",
       "      <td>0.000000</td>\n",
       "      <td>1.0</td>\n",
       "      <td>0.000000</td>\n",
       "    </tr>\n",
       "    <tr>\n",
       "      <th>RevolvingUtilizationOfUnsecuredLines</th>\n",
       "      <td>150000.0</td>\n",
       "      <td>6.048438</td>\n",
       "      <td>249.755371</td>\n",
       "      <td>0.0</td>\n",
       "      <td>0.029867</td>\n",
       "      <td>0.154181</td>\n",
       "      <td>0.559046</td>\n",
       "      <td>50708.0</td>\n",
       "      <td>0.000000</td>\n",
       "    </tr>\n",
       "    <tr>\n",
       "      <th>age</th>\n",
       "      <td>150000.0</td>\n",
       "      <td>52.295207</td>\n",
       "      <td>14.771866</td>\n",
       "      <td>0.0</td>\n",
       "      <td>41.000000</td>\n",
       "      <td>52.000000</td>\n",
       "      <td>63.000000</td>\n",
       "      <td>109.0</td>\n",
       "      <td>0.000000</td>\n",
       "    </tr>\n",
       "    <tr>\n",
       "      <th>NumberOfTime30-59DaysPastDueNotWorse</th>\n",
       "      <td>150000.0</td>\n",
       "      <td>0.421033</td>\n",
       "      <td>4.192781</td>\n",
       "      <td>0.0</td>\n",
       "      <td>0.000000</td>\n",
       "      <td>0.000000</td>\n",
       "      <td>0.000000</td>\n",
       "      <td>98.0</td>\n",
       "      <td>0.000000</td>\n",
       "    </tr>\n",
       "    <tr>\n",
       "      <th>DebtRatio</th>\n",
       "      <td>150000.0</td>\n",
       "      <td>353.005076</td>\n",
       "      <td>2037.818523</td>\n",
       "      <td>0.0</td>\n",
       "      <td>0.175074</td>\n",
       "      <td>0.366508</td>\n",
       "      <td>0.868254</td>\n",
       "      <td>329664.0</td>\n",
       "      <td>0.000000</td>\n",
       "    </tr>\n",
       "    <tr>\n",
       "      <th>MonthlyIncome</th>\n",
       "      <td>120269.0</td>\n",
       "      <td>6670.221237</td>\n",
       "      <td>14384.674215</td>\n",
       "      <td>0.0</td>\n",
       "      <td>3400.000000</td>\n",
       "      <td>5400.000000</td>\n",
       "      <td>8249.000000</td>\n",
       "      <td>3008750.0</td>\n",
       "      <td>0.198207</td>\n",
       "    </tr>\n",
       "    <tr>\n",
       "      <th>NumberOfOpenCreditLinesAndLoans</th>\n",
       "      <td>150000.0</td>\n",
       "      <td>8.452760</td>\n",
       "      <td>5.145951</td>\n",
       "      <td>0.0</td>\n",
       "      <td>5.000000</td>\n",
       "      <td>8.000000</td>\n",
       "      <td>11.000000</td>\n",
       "      <td>58.0</td>\n",
       "      <td>0.000000</td>\n",
       "    </tr>\n",
       "    <tr>\n",
       "      <th>NumberOfTimes90DaysLate</th>\n",
       "      <td>150000.0</td>\n",
       "      <td>0.265973</td>\n",
       "      <td>4.169304</td>\n",
       "      <td>0.0</td>\n",
       "      <td>0.000000</td>\n",
       "      <td>0.000000</td>\n",
       "      <td>0.000000</td>\n",
       "      <td>98.0</td>\n",
       "      <td>0.000000</td>\n",
       "    </tr>\n",
       "    <tr>\n",
       "      <th>NumberRealEstateLoansOrLines</th>\n",
       "      <td>150000.0</td>\n",
       "      <td>1.018240</td>\n",
       "      <td>1.129771</td>\n",
       "      <td>0.0</td>\n",
       "      <td>0.000000</td>\n",
       "      <td>1.000000</td>\n",
       "      <td>2.000000</td>\n",
       "      <td>54.0</td>\n",
       "      <td>0.000000</td>\n",
       "    </tr>\n",
       "    <tr>\n",
       "      <th>NumberOfTime60-89DaysPastDueNotWorse</th>\n",
       "      <td>150000.0</td>\n",
       "      <td>0.240387</td>\n",
       "      <td>4.155179</td>\n",
       "      <td>0.0</td>\n",
       "      <td>0.000000</td>\n",
       "      <td>0.000000</td>\n",
       "      <td>0.000000</td>\n",
       "      <td>98.0</td>\n",
       "      <td>0.000000</td>\n",
       "    </tr>\n",
       "    <tr>\n",
       "      <th>NumberOfDependents</th>\n",
       "      <td>146076.0</td>\n",
       "      <td>0.757222</td>\n",
       "      <td>1.115086</td>\n",
       "      <td>0.0</td>\n",
       "      <td>0.000000</td>\n",
       "      <td>0.000000</td>\n",
       "      <td>1.000000</td>\n",
       "      <td>20.0</td>\n",
       "      <td>0.026160</td>\n",
       "    </tr>\n",
       "  </tbody>\n",
       "</table>\n",
       "</div>"
      ],
      "text/plain": [
       "                                         count         mean           std  \\\n",
       "SeriousDlqin2yrs                      150000.0     0.066840      0.249746   \n",
       "RevolvingUtilizationOfUnsecuredLines  150000.0     6.048438    249.755371   \n",
       "age                                   150000.0    52.295207     14.771866   \n",
       "NumberOfTime30-59DaysPastDueNotWorse  150000.0     0.421033      4.192781   \n",
       "DebtRatio                             150000.0   353.005076   2037.818523   \n",
       "MonthlyIncome                         120269.0  6670.221237  14384.674215   \n",
       "NumberOfOpenCreditLinesAndLoans       150000.0     8.452760      5.145951   \n",
       "NumberOfTimes90DaysLate               150000.0     0.265973      4.169304   \n",
       "NumberRealEstateLoansOrLines          150000.0     1.018240      1.129771   \n",
       "NumberOfTime60-89DaysPastDueNotWorse  150000.0     0.240387      4.155179   \n",
       "NumberOfDependents                    146076.0     0.757222      1.115086   \n",
       "\n",
       "                                      min          25%          50%  \\\n",
       "SeriousDlqin2yrs                      0.0     0.000000     0.000000   \n",
       "RevolvingUtilizationOfUnsecuredLines  0.0     0.029867     0.154181   \n",
       "age                                   0.0    41.000000    52.000000   \n",
       "NumberOfTime30-59DaysPastDueNotWorse  0.0     0.000000     0.000000   \n",
       "DebtRatio                             0.0     0.175074     0.366508   \n",
       "MonthlyIncome                         0.0  3400.000000  5400.000000   \n",
       "NumberOfOpenCreditLinesAndLoans       0.0     5.000000     8.000000   \n",
       "NumberOfTimes90DaysLate               0.0     0.000000     0.000000   \n",
       "NumberRealEstateLoansOrLines          0.0     0.000000     1.000000   \n",
       "NumberOfTime60-89DaysPastDueNotWorse  0.0     0.000000     0.000000   \n",
       "NumberOfDependents                    0.0     0.000000     0.000000   \n",
       "\n",
       "                                              75%        max  missing_rate  \n",
       "SeriousDlqin2yrs                         0.000000        1.0      0.000000  \n",
       "RevolvingUtilizationOfUnsecuredLines     0.559046    50708.0      0.000000  \n",
       "age                                     63.000000      109.0      0.000000  \n",
       "NumberOfTime30-59DaysPastDueNotWorse     0.000000       98.0      0.000000  \n",
       "DebtRatio                                0.868254   329664.0      0.000000  \n",
       "MonthlyIncome                         8249.000000  3008750.0      0.198207  \n",
       "NumberOfOpenCreditLinesAndLoans         11.000000       58.0      0.000000  \n",
       "NumberOfTimes90DaysLate                  0.000000       98.0      0.000000  \n",
       "NumberRealEstateLoansOrLines             2.000000       54.0      0.000000  \n",
       "NumberOfTime60-89DaysPastDueNotWorse     0.000000       98.0      0.000000  \n",
       "NumberOfDependents                       1.000000       20.0      0.026160  "
      ]
     },
     "execution_count": 7,
     "metadata": {},
     "output_type": "execute_result"
    }
   ],
   "source": [
    "df.describe().T.assign(missing_rate = df.apply(lambda x : (len(x)-x.count())/float(len(x))))"
   ]
  },
  {
   "cell_type": "markdown",
   "metadata": {},
   "source": [
    "### 缺失值处理：\n",
    "    1、由于 MonthyIncome 缺失较多，因此不适合直接进行删除，这边根据变量之间存在的关系来填补缺失值，并采用随机森林的方法；\n",
    "    \n",
    "    2、NumberOfDependents 的缺失较少，对于整体的样本影响有限，因此这边直接进行删除操作，后续也可以进行一些其他的填补操作。"
   ]
  },
  {
   "cell_type": "code",
   "execution_count": 8,
   "metadata": {
    "ExecuteTime": {
     "end_time": "2020-08-20T07:18:35.306941Z",
     "start_time": "2020-08-20T07:18:35.204060Z"
    }
   },
   "outputs": [],
   "source": [
    "from sklearn.ensemble import RandomForestRegressor\n",
    "# 用随机森林对缺失值预测填充函数\n",
    "def set_missing(df):\n",
    "    # 把已有的数值型特征取出来\n",
    "    process_df = df.iloc[:, [5,0,1,2,3,4,6,7,8,9]]\n",
    "    # 分成已知该特征和未知该特征两部分\n",
    "    known = process_df[process_df.MonthlyIncome.notnull()].values\n",
    "    unknown = process_df[process_df.MonthlyIncome.isnull()].values\n",
    "    # X为特征属性值\n",
    "    X = known[:, 1:]\n",
    "    # y为结果标签值\n",
    "    y = known[:, 0]\n",
    "    # fit到RandomForestRegressor之中\n",
    "    rfr = RandomForestRegressor(random_state=0, n_estimators=200, max_depth=3, n_jobs=-1)\n",
    "    rfr.fit(X, y)\n",
    "    # 用得到的模型进行未知特征值预测\n",
    "    predicted = rfr.predict(unknown[:, 1:]).round(0)\n",
    "    print(\"预测值： \", predicted)\n",
    "    # 用得到的预测结果填补原缺失数据\n",
    "    df.loc[(df.MonthlyIncome.isnull()), 'MonthlyIncome'] = predicted\n",
    "    return df"
   ]
  },
  {
   "cell_type": "code",
   "execution_count": 9,
   "metadata": {
    "ExecuteTime": {
     "end_time": "2020-08-20T07:18:35.939098Z",
     "start_time": "2020-08-20T07:18:35.598991Z"
    },
    "collapsed": true
   },
   "outputs": [
    {
     "ename": "AttributeError",
     "evalue": "'DataFrame' object has no attribute 'as_matrix'",
     "output_type": "error",
     "traceback": [
      "\u001b[1;31m---------------------------------------------------------------------------\u001b[0m",
      "\u001b[1;31mAttributeError\u001b[0m                            Traceback (most recent call last)",
      "\u001b[1;32m<ipython-input-9-f18d14e49480>\u001b[0m in \u001b[0;36m<module>\u001b[1;34m\u001b[0m\n\u001b[1;32m----> 1\u001b[1;33m \u001b[0mdf\u001b[0m \u001b[1;33m=\u001b[0m \u001b[0mset_missing\u001b[0m\u001b[1;33m(\u001b[0m\u001b[0mdf\u001b[0m\u001b[1;33m)\u001b[0m\u001b[1;33m\u001b[0m\u001b[1;33m\u001b[0m\u001b[0m\n\u001b[0m",
      "\u001b[1;32m<ipython-input-8-3110bfe45d04>\u001b[0m in \u001b[0;36mset_missing\u001b[1;34m(df)\u001b[0m\n\u001b[0;32m      5\u001b[0m     \u001b[0mprocess_df\u001b[0m \u001b[1;33m=\u001b[0m \u001b[0mdf\u001b[0m\u001b[1;33m.\u001b[0m\u001b[0miloc\u001b[0m\u001b[1;33m[\u001b[0m\u001b[1;33m:\u001b[0m\u001b[1;33m,\u001b[0m \u001b[1;33m[\u001b[0m\u001b[1;36m5\u001b[0m\u001b[1;33m,\u001b[0m\u001b[1;36m0\u001b[0m\u001b[1;33m,\u001b[0m\u001b[1;36m1\u001b[0m\u001b[1;33m,\u001b[0m\u001b[1;36m2\u001b[0m\u001b[1;33m,\u001b[0m\u001b[1;36m3\u001b[0m\u001b[1;33m,\u001b[0m\u001b[1;36m4\u001b[0m\u001b[1;33m,\u001b[0m\u001b[1;36m6\u001b[0m\u001b[1;33m,\u001b[0m\u001b[1;36m7\u001b[0m\u001b[1;33m,\u001b[0m\u001b[1;36m8\u001b[0m\u001b[1;33m,\u001b[0m\u001b[1;36m9\u001b[0m\u001b[1;33m]\u001b[0m\u001b[1;33m]\u001b[0m\u001b[1;33m\u001b[0m\u001b[1;33m\u001b[0m\u001b[0m\n\u001b[0;32m      6\u001b[0m     \u001b[1;31m# 分成已知该特征和未知该特征两部分\u001b[0m\u001b[1;33m\u001b[0m\u001b[1;33m\u001b[0m\u001b[1;33m\u001b[0m\u001b[0m\n\u001b[1;32m----> 7\u001b[1;33m     \u001b[0mknown\u001b[0m \u001b[1;33m=\u001b[0m \u001b[0mprocess_df\u001b[0m\u001b[1;33m[\u001b[0m\u001b[0mprocess_df\u001b[0m\u001b[1;33m.\u001b[0m\u001b[0mMonthlyIncome\u001b[0m\u001b[1;33m.\u001b[0m\u001b[0mnotnull\u001b[0m\u001b[1;33m(\u001b[0m\u001b[1;33m)\u001b[0m\u001b[1;33m]\u001b[0m\u001b[1;33m.\u001b[0m\u001b[0mas_matrix\u001b[0m\u001b[1;33m(\u001b[0m\u001b[1;33m)\u001b[0m\u001b[1;33m\u001b[0m\u001b[1;33m\u001b[0m\u001b[0m\n\u001b[0m\u001b[0;32m      8\u001b[0m     \u001b[0munknown\u001b[0m \u001b[1;33m=\u001b[0m \u001b[0mprocess_df\u001b[0m\u001b[1;33m[\u001b[0m\u001b[0mprocess_df\u001b[0m\u001b[1;33m.\u001b[0m\u001b[0mMonthlyIncome\u001b[0m\u001b[1;33m.\u001b[0m\u001b[0misnull\u001b[0m\u001b[1;33m(\u001b[0m\u001b[1;33m)\u001b[0m\u001b[1;33m]\u001b[0m\u001b[1;33m.\u001b[0m\u001b[0mas_matrix\u001b[0m\u001b[1;33m(\u001b[0m\u001b[1;33m)\u001b[0m\u001b[1;33m\u001b[0m\u001b[1;33m\u001b[0m\u001b[0m\n\u001b[0;32m      9\u001b[0m     \u001b[1;31m# X为特征属性值\u001b[0m\u001b[1;33m\u001b[0m\u001b[1;33m\u001b[0m\u001b[1;33m\u001b[0m\u001b[0m\n",
      "\u001b[1;32mD:\\Program Files (x86)\\Anaconda\\lib\\site-packages\\pandas\\core\\generic.py\u001b[0m in \u001b[0;36m__getattr__\u001b[1;34m(self, name)\u001b[0m\n\u001b[0;32m   5272\u001b[0m             \u001b[1;32mif\u001b[0m \u001b[0mself\u001b[0m\u001b[1;33m.\u001b[0m\u001b[0m_info_axis\u001b[0m\u001b[1;33m.\u001b[0m\u001b[0m_can_hold_identifiers_and_holds_name\u001b[0m\u001b[1;33m(\u001b[0m\u001b[0mname\u001b[0m\u001b[1;33m)\u001b[0m\u001b[1;33m:\u001b[0m\u001b[1;33m\u001b[0m\u001b[1;33m\u001b[0m\u001b[0m\n\u001b[0;32m   5273\u001b[0m                 \u001b[1;32mreturn\u001b[0m \u001b[0mself\u001b[0m\u001b[1;33m[\u001b[0m\u001b[0mname\u001b[0m\u001b[1;33m]\u001b[0m\u001b[1;33m\u001b[0m\u001b[1;33m\u001b[0m\u001b[0m\n\u001b[1;32m-> 5274\u001b[1;33m             \u001b[1;32mreturn\u001b[0m \u001b[0mobject\u001b[0m\u001b[1;33m.\u001b[0m\u001b[0m__getattribute__\u001b[0m\u001b[1;33m(\u001b[0m\u001b[0mself\u001b[0m\u001b[1;33m,\u001b[0m \u001b[0mname\u001b[0m\u001b[1;33m)\u001b[0m\u001b[1;33m\u001b[0m\u001b[1;33m\u001b[0m\u001b[0m\n\u001b[0m\u001b[0;32m   5275\u001b[0m \u001b[1;33m\u001b[0m\u001b[0m\n\u001b[0;32m   5276\u001b[0m     \u001b[1;32mdef\u001b[0m \u001b[0m__setattr__\u001b[0m\u001b[1;33m(\u001b[0m\u001b[0mself\u001b[0m\u001b[1;33m,\u001b[0m \u001b[0mname\u001b[0m\u001b[1;33m:\u001b[0m \u001b[0mstr\u001b[0m\u001b[1;33m,\u001b[0m \u001b[0mvalue\u001b[0m\u001b[1;33m)\u001b[0m \u001b[1;33m->\u001b[0m \u001b[1;32mNone\u001b[0m\u001b[1;33m:\u001b[0m\u001b[1;33m\u001b[0m\u001b[1;33m\u001b[0m\u001b[0m\n",
      "\u001b[1;31mAttributeError\u001b[0m: 'DataFrame' object has no attribute 'as_matrix'"
     ]
    }
   ],
   "source": [
    "df = set_missing(df)"
   ]
  },
  {
   "cell_type": "code",
   "execution_count": 10,
   "metadata": {
    "ExecuteTime": {
     "end_time": "2020-08-20T07:18:36.055796Z",
     "start_time": "2020-08-20T07:18:36.035822Z"
    }
   },
   "outputs": [],
   "source": [
    "df = df.dropna() # 删除缺失值"
   ]
  },
  {
   "cell_type": "code",
   "execution_count": 11,
   "metadata": {
    "ExecuteTime": {
     "end_time": "2020-08-20T07:18:36.537635Z",
     "start_time": "2020-08-20T07:18:36.460750Z"
    }
   },
   "outputs": [],
   "source": [
    "df = df.drop_duplicates() # 删除重复值"
   ]
  },
  {
   "cell_type": "markdown",
   "metadata": {
    "collapsed": true
   },
   "source": [
    "### 异常值处理：\n",
    "    异常值：偏离大多数抽样数据的数值，通常指测定值中与平均值的偏差超过两倍标准差的测定值\n",
    "    \n",
    "    通常采用离群值检测的方法对异常值进行检测"
   ]
  },
  {
   "cell_type": "markdown",
   "metadata": {},
   "source": [
    "**RevolvingUtilizationOfUnsecuredLines**"
   ]
  },
  {
   "cell_type": "code",
   "execution_count": 12,
   "metadata": {
    "ExecuteTime": {
     "end_time": "2020-08-20T07:18:37.746831Z",
     "start_time": "2020-08-20T07:18:37.628121Z"
    }
   },
   "outputs": [
    {
     "data": {
      "text/plain": [
       "<matplotlib.axes._subplots.AxesSubplot at 0x184ee574040>"
      ]
     },
     "execution_count": 12,
     "metadata": {},
     "output_type": "execute_result"
    },
    {
     "data": {
      "image/png": "[encoded data removed]",
      "text/plain": [
       "<Figure size 432x288 with 1 Axes>"
      ]
     },
     "metadata": {
      "needs_background": "light"
     },
     "output_type": "display_data"
    }
   ],
   "source": [
    "df[\"RevolvingUtilizationOfUnsecuredLines\"].plot(kind=\"box\", grid=True)"
   ]
  },
  {
   "cell_type": "code",
   "execution_count": 13,
   "metadata": {
    "ExecuteTime": {
     "end_time": "2020-08-20T07:18:37.916540Z",
     "start_time": "2020-08-20T07:18:37.884595Z"
    }
   },
   "outputs": [],
   "source": [
    "# 使用2来代替大于2的值\n",
    "revNew = []\n",
    "for val in df.RevolvingUtilizationOfUnsecuredLines:\n",
    "    if val <= 2:\n",
    "        revNew.append(val)\n",
    "    else:\n",
    "        revNew.append(2.)"
   ]
  },
  {
   "cell_type": "code",
   "execution_count": 14,
   "metadata": {
    "ExecuteTime": {
     "end_time": "2020-08-20T07:18:38.143902Z",
     "start_time": "2020-08-20T07:18:38.129939Z"
    }
   },
   "outputs": [],
   "source": [
    "df.RevolvingUtilizationOfUnsecuredLines = revNew"
   ]
  },
  {
   "cell_type": "code",
   "execution_count": 15,
   "metadata": {
    "ExecuteTime": {
     "end_time": "2020-08-20T07:18:38.436153Z",
     "start_time": "2020-08-20T07:18:38.333396Z"
    }
   },
   "outputs": [
    {
     "data": {
      "text/plain": [
       "<matplotlib.axes._subplots.AxesSubplot at 0x184ebaf7df0>"
      ]
     },
     "execution_count": 15,
     "metadata": {},
     "output_type": "execute_result"
    },
    {
     "data": {
      "image/png": "[encoded data removed]",
      "text/plain": [
       "<Figure size 432x288 with 1 Axes>"
      ]
     },
     "metadata": {
      "needs_background": "light"
     },
     "output_type": "display_data"
    }
   ],
   "source": [
    "df[\"RevolvingUtilizationOfUnsecuredLines\"].plot(kind=\"box\",grid=True)"
   ]
  },
  {
   "cell_type": "markdown",
   "metadata": {},
   "source": [
    "**age**"
   ]
  },
  {
   "cell_type": "code",
   "execution_count": 16,
   "metadata": {
    "ExecuteTime": {
     "end_time": "2020-08-20T07:18:39.241848Z",
     "start_time": "2020-08-20T07:18:39.140090Z"
    }
   },
   "outputs": [
    {
     "data": {
      "text/plain": [
       "<matplotlib.axes._subplots.AxesSubplot at 0x184ef0f7070>"
      ]
     },
     "execution_count": 16,
     "metadata": {},
     "output_type": "execute_result"
    },
    {
     "data": {
      "image/png": "[encoded data removed]",
      "text/plain": [
       "<Figure size 432x288 with 1 Axes>"
      ]
     },
     "metadata": {
      "needs_background": "light"
     },
     "output_type": "display_data"
    }
   ],
   "source": [
    "df.age.plot.box(grid=True)"
   ]
  },
  {
   "cell_type": "code",
   "execution_count": 17,
   "metadata": {
    "ExecuteTime": {
     "end_time": "2020-08-20T07:18:39.922061Z",
     "start_time": "2020-08-20T07:18:39.908070Z"
    }
   },
   "outputs": [],
   "source": [
    "# 发现 age 属性中存在0值情况，而这些数据明显是异常值，因此对其进行处理\n",
    "df = df[df[\"age\"] > 0]"
   ]
  },
  {
   "cell_type": "markdown",
   "metadata": {},
   "source": [
    "**NumberOfTime30-59DaysPastDueNotWorse**\n",
    "\n",
    "**NumberOfTime60-89DaysPastDueNotWorse**\n",
    "\n",
    "**NumberOfTimes90DaysLate**"
   ]
  },
  {
   "cell_type": "code",
   "execution_count": 18,
   "metadata": {
    "ExecuteTime": {
     "end_time": "2020-08-20T07:18:41.938530Z",
     "start_time": "2020-08-20T07:18:41.793946Z"
    }
   },
   "outputs": [
    {
     "data": {
      "text/plain": [
       "<matplotlib.axes._subplots.AxesSubplot at 0x184ef15cc70>"
      ]
     },
     "execution_count": 18,
     "metadata": {},
     "output_type": "execute_result"
    },
    {
     "data": {
      "image/png": "[encoded data removed]",
      "text/plain": [
       "<Figure size 432x288 with 1 Axes>"
      ]
     },
     "metadata": {
      "needs_background": "light"
     },
     "output_type": "display_data"
    }
   ],
   "source": [
    "df.boxplot(column=[\"NumberOfTime30-59DaysPastDueNotWorse\", \"NumberOfTime60-89DaysPastDueNotWorse\", \"NumberOfTimes90DaysLate\"], \n",
    "            rot=30)"
   ]
  },
  {
   "cell_type": "markdown",
   "metadata": {},
   "source": [
    "上面的箱线图可以看出 NumberOfTime30-59DaysPastDueNotWorse，NumberOfTime60-89DaysPastDueNotWorse，NumberOfTimes90DaysLate三个特征都存在两个异常值，下面使用 unique() 方法查看具体的异常值"
   ]
  },
  {
   "cell_type": "code",
   "execution_count": 19,
   "metadata": {
    "ExecuteTime": {
     "end_time": "2020-08-20T07:18:42.953266Z",
     "start_time": "2020-08-20T07:18:42.946262Z"
    }
   },
   "outputs": [
    {
     "name": "stdout",
     "output_type": "stream",
     "text": [
      "NumberOfTime30-59DaysPastDueNotWorse: [ 2  0  1  3  5  4  7 10  6 98 12  8  9 96 13 11]\n",
      "NumberOfTime60-89DaysPastDueNotWorse: [ 0  1  2  5 98  4  3  6  7  8 11  9 96]\n",
      "NumberOfTimes90DaysLate: [ 0  1  3  2  4 98 10  5  6  7  8  9 15 11 96 13 14 17 12]\n"
     ]
    }
   ],
   "source": [
    "print(\"NumberOfTime30-59DaysPastDueNotWorse:\", df[\"NumberOfTime30-59DaysPastDueNotWorse\"].unique())\n",
    "print(\"NumberOfTime60-89DaysPastDueNotWorse:\", df[\"NumberOfTime60-89DaysPastDueNotWorse\"].unique())\n",
    "print(\"NumberOfTimes90DaysLate:\", df[\"NumberOfTimes90DaysLate\"].unique())"
   ]
  },
  {
   "cell_type": "code",
   "execution_count": 20,
   "metadata": {
    "ExecuteTime": {
     "end_time": "2020-08-20T07:18:43.777827Z",
     "start_time": "2020-08-20T07:18:43.629149Z"
    }
   },
   "outputs": [],
   "source": [
    "def replaceOutlier(data):\n",
    "    New = []\n",
    "    med = data.median()\n",
    "    for val in data:\n",
    "        if ((val == 98) | (val == 96)):\n",
    "            New.append(med)\n",
    "        else:\n",
    "            New.append(val)\n",
    "    return New\n",
    "\n",
    "df[\"NumberOfTime30-59DaysPastDueNotWorse\"] = replaceOutlier(df[\"NumberOfTime30-59DaysPastDueNotWorse\"])\n",
    "df[\"NumberOfTime60-89DaysPastDueNotWorse\"] = replaceOutlier(df[\"NumberOfTime60-89DaysPastDueNotWorse\"])\n",
    "df[\"NumberOfTimes90DaysLate\"] = replaceOutlier(df[\"NumberOfTimes90DaysLate\"])"
   ]
  },
  {
   "cell_type": "code",
   "execution_count": 21,
   "metadata": {
    "ExecuteTime": {
     "end_time": "2020-08-20T07:18:45.851561Z",
     "start_time": "2020-08-20T07:18:45.693983Z"
    }
   },
   "outputs": [
    {
     "data": {
      "image/png": "[encoded data removed]",
      "text/plain": [
       "<Figure size 432x288 with 1 Axes>"
      ]
     },
     "metadata": {
      "needs_background": "light"
     },
     "output_type": "display_data"
    }
   ],
   "source": [
    "# 下图可以看出 NumberOfTime30-59DaysPastDueNotWorse 删除 98 和 96 两个异常值时，\n",
    "# NumberOfTime60-89DaysPastDueNotWorse 和 NumberOfTimes90DaysLate 的两个异常值也同时删除了\n",
    "df.boxplot(column=[\"NumberOfTime30-59DaysPastDueNotWorse\", \"NumberOfTime60-89DaysPastDueNotWorse\", \"NumberOfTimes90DaysLate\"], \n",
    "            rot=30)\n",
    "plt.show()"
   ]
  },
  {
   "cell_type": "markdown",
   "metadata": {},
   "source": [
    "**DebtRatio**"
   ]
  },
  {
   "cell_type": "code",
   "execution_count": 22,
   "metadata": {
    "ExecuteTime": {
     "end_time": "2020-08-20T07:19:02.029307Z",
     "start_time": "2020-08-20T07:19:01.924561Z"
    }
   },
   "outputs": [
    {
     "data": {
      "text/plain": [
       "<matplotlib.axes._subplots.AxesSubplot at 0x184f0bd0cd0>"
      ]
     },
     "execution_count": 22,
     "metadata": {},
     "output_type": "execute_result"
    },
    {
     "data": {
      "image/png": "[encoded data removed]",
      "text/plain": [
       "<Figure size 432x288 with 1 Axes>"
      ]
     },
     "metadata": {
      "needs_background": "light"
     },
     "output_type": "display_data"
    }
   ],
   "source": [
    "df[\"DebtRatio\"].plot(kind=\"box\")"
   ]
  },
  {
   "cell_type": "code",
   "execution_count": 23,
   "metadata": {
    "ExecuteTime": {
     "end_time": "2020-08-20T07:19:03.379524Z",
     "start_time": "2020-08-20T07:19:03.373536Z"
    }
   },
   "outputs": [],
   "source": [
    "# 使用中位数绝对偏差 MAD（median absolute deviation）方法进行异常值的检测\n",
    "from scipy.stats import norm\n",
    "\n",
    "def mad_based_outlier(points, thresh=3.5):\n",
    "    if type(points) is list:\n",
    "        points = np.asarray(points)\n",
    "    if len(points.shape) == 1:\n",
    "        points = points[:, None]\n",
    "    med = np.median(points, axis=0)\n",
    "    abs_dev = np.absolute(points - med)\n",
    "    med_abs_dev = np.median(abs_dev)\n",
    "\n",
    "    mod_z_score = norm.ppf(0.75) * abs_dev / med_abs_dev\n",
    "    return mod_z_score > thresh"
   ]
  },
  {
   "cell_type": "code",
   "execution_count": 24,
   "metadata": {
    "ExecuteTime": {
     "end_time": "2020-08-20T07:19:04.354787Z",
     "start_time": "2020-08-20T07:19:04.220123Z"
    }
   },
   "outputs": [],
   "source": [
    "# 检测出最小的异常值,用于替换异常值\n",
    "minUpperBound = min([val for (val, out) in zip(df.DebtRatio, mad_based_outlier(df.DebtRatio)) if out == True])"
   ]
  },
  {
   "cell_type": "code",
   "execution_count": 25,
   "metadata": {
    "ExecuteTime": {
     "end_time": "2020-08-20T07:19:11.321343Z",
     "start_time": "2020-08-20T07:19:11.317381Z"
    }
   },
   "outputs": [
    {
     "data": {
      "text/plain": [
       "1.159671533"
      ]
     },
     "execution_count": 25,
     "metadata": {},
     "output_type": "execute_result"
    }
   ],
   "source": [
    "minUpperBound"
   ]
  },
  {
   "cell_type": "code",
   "execution_count": 26,
   "metadata": {
    "ExecuteTime": {
     "end_time": "2020-08-20T07:19:23.056319Z",
     "start_time": "2020-08-20T07:19:23.004423Z"
    }
   },
   "outputs": [],
   "source": [
    "newDebtRatio = []\n",
    "for val in df.DebtRatio:\n",
    "    if val > minUpperBound:\n",
    "        newDebtRatio.append(minUpperBound)\n",
    "    else:\n",
    "        newDebtRatio.append(val)\n",
    "\n",
    "df.DebtRatio = newDebtRatio"
   ]
  },
  {
   "cell_type": "code",
   "execution_count": 27,
   "metadata": {
    "ExecuteTime": {
     "end_time": "2020-08-20T07:19:24.888658Z",
     "start_time": "2020-08-20T07:19:24.876718Z"
    }
   },
   "outputs": [
    {
     "data": {
      "text/plain": [
       "count    120169.000000\n",
       "mean          0.356675\n",
       "std           0.293965\n",
       "min           0.000000\n",
       "25%           0.143842\n",
       "50%           0.296171\n",
       "75%           0.482710\n",
       "max           1.159672\n",
       "Name: DebtRatio, dtype: float64"
      ]
     },
     "execution_count": 27,
     "metadata": {},
     "output_type": "execute_result"
    }
   ],
   "source": [
    "df.DebtRatio.describe()"
   ]
  },
  {
   "cell_type": "code",
   "execution_count": 28,
   "metadata": {
    "ExecuteTime": {
     "end_time": "2020-08-20T07:19:25.562519Z",
     "start_time": "2020-08-20T07:19:25.444806Z"
    }
   },
   "outputs": [
    {
     "data": {
      "text/plain": [
       "<matplotlib.axes._subplots.AxesSubplot at 0x184f10c3190>"
      ]
     },
     "execution_count": 28,
     "metadata": {},
     "output_type": "execute_result"
    },
    {
     "data": {
      "image/png": "[encoded data removed]",
      "text/plain": [
       "<Figure size 432x288 with 1 Axes>"
      ]
     },
     "metadata": {
      "needs_background": "light"
     },
     "output_type": "display_data"
    }
   ],
   "source": [
    "df[\"DebtRatio\"].plot.box(grid=True)"
   ]
  },
  {
   "cell_type": "markdown",
   "metadata": {},
   "source": [
    "**Monthly income**"
   ]
  },
  {
   "cell_type": "code",
   "execution_count": 29,
   "metadata": {
    "ExecuteTime": {
     "end_time": "2020-08-20T07:19:30.680820Z",
     "start_time": "2020-08-20T07:19:30.667856Z"
    }
   },
   "outputs": [
    {
     "data": {
      "text/plain": [
       "count    1.201690e+05\n",
       "mean     6.675104e+03\n",
       "std      1.438964e+04\n",
       "min      0.000000e+00\n",
       "25%      3.400000e+03\n",
       "50%      5.400000e+03\n",
       "75%      8.250000e+03\n",
       "max      3.008750e+06\n",
       "Name: MonthlyIncome, dtype: float64"
      ]
     },
     "execution_count": 29,
     "metadata": {},
     "output_type": "execute_result"
    }
   ],
   "source": [
    "df.MonthlyIncome.describe()"
   ]
  },
  {
   "cell_type": "code",
   "execution_count": 30,
   "metadata": {
    "ExecuteTime": {
     "end_time": "2020-08-20T07:19:38.905717Z",
     "start_time": "2020-08-20T07:19:38.804025Z"
    }
   },
   "outputs": [
    {
     "data": {
      "text/plain": [
       "<matplotlib.axes._subplots.AxesSubplot at 0x184f1692790>"
      ]
     },
     "execution_count": 30,
     "metadata": {},
     "output_type": "execute_result"
    },
    {
     "data": {
      "image/png": "[encoded data removed]",
      "text/plain": [
       "<Figure size 432x288 with 1 Axes>"
      ]
     },
     "metadata": {
      "needs_background": "light"
     },
     "output_type": "display_data"
    }
   ],
   "source": [
    "df.MonthlyIncome.plot.box(grid=True)"
   ]
  },
  {
   "cell_type": "code",
   "execution_count": 31,
   "metadata": {
    "ExecuteTime": {
     "end_time": "2020-08-20T07:19:39.983335Z",
     "start_time": "2020-08-20T07:19:39.852684Z"
    }
   },
   "outputs": [
    {
     "data": {
      "text/plain": [
       "array([3408])"
      ]
     },
     "execution_count": 31,
     "metadata": {},
     "output_type": "execute_result"
    }
   ],
   "source": [
    "sum(mad_based_outlier(df.MonthlyIncome))"
   ]
  },
  {
   "cell_type": "code",
   "execution_count": 32,
   "metadata": {
    "ExecuteTime": {
     "end_time": "2020-08-20T07:19:47.448094Z",
     "start_time": "2020-08-20T07:19:47.318267Z"
    }
   },
   "outputs": [],
   "source": [
    "minUpperBound_MonthlyIncome = min([val for (val, out) in zip(\n",
    "    df.MonthlyIncome, mad_based_outlier(df.MonthlyIncome)) if out == True])"
   ]
  },
  {
   "cell_type": "code",
   "execution_count": 33,
   "metadata": {
    "ExecuteTime": {
     "end_time": "2020-08-20T07:19:50.489866Z",
     "start_time": "2020-08-20T07:19:50.445984Z"
    }
   },
   "outputs": [],
   "source": [
    "newMonthlyIncome = []\n",
    "for val in df.MonthlyIncome:\n",
    "    if val > minUpperBound_MonthlyIncome:\n",
    "        newMonthlyIncome.append(minUpperBound_MonthlyIncome)\n",
    "    else:\n",
    "        newMonthlyIncome.append(val)\n",
    "\n",
    "df.MonthlyIncome = newMonthlyIncome"
   ]
  },
  {
   "cell_type": "code",
   "execution_count": 34,
   "metadata": {
    "ExecuteTime": {
     "end_time": "2020-08-20T07:19:53.137251Z",
     "start_time": "2020-08-20T07:19:53.029512Z"
    }
   },
   "outputs": [
    {
     "data": {
      "text/plain": [
       "<matplotlib.axes._subplots.AxesSubplot at 0x184f26f9a30>"
      ]
     },
     "execution_count": 34,
     "metadata": {},
     "output_type": "execute_result"
    },
    {
     "data": {
      "image/png": "[encoded data removed]",
      "text/plain": [
       "<Figure size 432x288 with 1 Axes>"
      ]
     },
     "metadata": {
      "needs_background": "light"
     },
     "output_type": "display_data"
    }
   ],
   "source": [
    "df.MonthlyIncome.plot.box()"
   ]
  },
  {
   "cell_type": "markdown",
   "metadata": {},
   "source": [
    "**NumberOfOpenCreditLinesAndLoans**"
   ]
  },
  {
   "cell_type": "code",
   "execution_count": 35,
   "metadata": {
    "ExecuteTime": {
     "end_time": "2020-08-20T07:19:56.562032Z",
     "start_time": "2020-08-20T07:19:56.461308Z"
    }
   },
   "outputs": [
    {
     "data": {
      "text/plain": [
       "<matplotlib.axes._subplots.AxesSubplot at 0x184f30197f0>"
      ]
     },
     "execution_count": 35,
     "metadata": {},
     "output_type": "execute_result"
    },
    {
     "data": {
      "image/png": "[encoded data removed]",
      "text/plain": [
       "<Figure size 432x288 with 1 Axes>"
      ]
     },
     "metadata": {
      "needs_background": "light"
     },
     "output_type": "display_data"
    }
   ],
   "source": [
    "df[\"NumberOfOpenCreditLinesAndLoans\"].plot(kind=\"box\")"
   ]
  },
  {
   "cell_type": "code",
   "execution_count": 36,
   "metadata": {
    "ExecuteTime": {
     "end_time": "2020-08-20T07:19:57.304583Z",
     "start_time": "2020-08-20T07:19:57.170969Z"
    }
   },
   "outputs": [],
   "source": [
    "minUpperBound_NumberOfOpenCreditLinesAndLoans = min([val for (val, out) in zip(df.NumberOfOpenCreditLinesAndLoans, mad_based_outlier(df.NumberOfOpenCreditLinesAndLoans)) if out == True])"
   ]
  },
  {
   "cell_type": "code",
   "execution_count": 37,
   "metadata": {
    "ExecuteTime": {
     "end_time": "2020-08-20T07:20:00.673236Z",
     "start_time": "2020-08-20T07:20:00.613356Z"
    }
   },
   "outputs": [],
   "source": [
    "newNumberOfOpenCreditLinesAndLoans = []\n",
    "for val in df.NumberOfOpenCreditLinesAndLoans:\n",
    "    if val > minUpperBound_NumberOfOpenCreditLinesAndLoans:\n",
    "        newNumberOfOpenCreditLinesAndLoans.append(minUpperBound_NumberOfOpenCreditLinesAndLoans)\n",
    "    else:\n",
    "        newNumberOfOpenCreditLinesAndLoans.append(val)\n",
    "\n",
    "df.NumberOfOpenCreditLinesAndLoans = newNumberOfOpenCreditLinesAndLoans"
   ]
  },
  {
   "cell_type": "code",
   "execution_count": 38,
   "metadata": {
    "ExecuteTime": {
     "end_time": "2020-08-20T07:20:01.216464Z",
     "start_time": "2020-08-20T07:20:01.204497Z"
    }
   },
   "outputs": [
    {
     "data": {
      "text/plain": [
       "count    120169.000000\n",
       "mean          8.710142\n",
       "std           4.950273\n",
       "min           0.000000\n",
       "25%           5.000000\n",
       "50%           8.000000\n",
       "75%          11.000000\n",
       "max          24.000000\n",
       "Name: NumberOfOpenCreditLinesAndLoans, dtype: float64"
      ]
     },
     "execution_count": 38,
     "metadata": {},
     "output_type": "execute_result"
    }
   ],
   "source": [
    "df.NumberOfOpenCreditLinesAndLoans.describe()"
   ]
  },
  {
   "cell_type": "code",
   "execution_count": 39,
   "metadata": {
    "ExecuteTime": {
     "end_time": "2020-08-20T07:20:01.965424Z",
     "start_time": "2020-08-20T07:20:01.869652Z"
    }
   },
   "outputs": [
    {
     "data": {
      "text/plain": [
       "<matplotlib.axes._subplots.AxesSubplot at 0x184f30525e0>"
      ]
     },
     "execution_count": 39,
     "metadata": {},
     "output_type": "execute_result"
    },
    {
     "data": {
      "image/png": "[encoded data removed]",
      "text/plain": [
       "<Figure size 432x288 with 1 Axes>"
      ]
     },
     "metadata": {
      "needs_background": "light"
     },
     "output_type": "display_data"
    }
   ],
   "source": [
    "df[\"NumberOfOpenCreditLinesAndLoans\"].plot(kind=\"box\", grid=True)"
   ]
  },
  {
   "cell_type": "markdown",
   "metadata": {},
   "source": [
    "**NumberRealEstateLoansOrLines**"
   ]
  },
  {
   "cell_type": "code",
   "execution_count": 40,
   "metadata": {
    "ExecuteTime": {
     "end_time": "2020-08-20T07:20:05.318262Z",
     "start_time": "2020-08-20T07:20:05.220495Z"
    }
   },
   "outputs": [
    {
     "data": {
      "text/plain": [
       "<matplotlib.axes._subplots.AxesSubplot at 0x184f3096c70>"
      ]
     },
     "execution_count": 40,
     "metadata": {},
     "output_type": "execute_result"
    },
    {
     "data": {
      "image/png": "[encoded data removed]",
      "text/plain": [
       "<Figure size 432x288 with 1 Axes>"
      ]
     },
     "metadata": {
      "needs_background": "light"
     },
     "output_type": "display_data"
    }
   ],
   "source": [
    "df[\"NumberRealEstateLoansOrLines\"].plot(kind=\"box\")"
   ]
  },
  {
   "cell_type": "code",
   "execution_count": 41,
   "metadata": {
    "ExecuteTime": {
     "end_time": "2020-08-20T07:20:05.793014Z",
     "start_time": "2020-08-20T07:20:05.743097Z"
    }
   },
   "outputs": [],
   "source": [
    "realNew = []\n",
    "for val in df.NumberRealEstateLoansOrLines:\n",
    "    if val > 17:\n",
    "        realNew.append(17)\n",
    "    else:\n",
    "        realNew.append(val)\n",
    "\n",
    "df.NumberRealEstateLoansOrLines = realNew"
   ]
  },
  {
   "cell_type": "code",
   "execution_count": 42,
   "metadata": {
    "ExecuteTime": {
     "end_time": "2020-08-20T07:20:06.697816Z",
     "start_time": "2020-08-20T07:20:06.524286Z"
    }
   },
   "outputs": [
    {
     "data": {
      "text/plain": [
       "<matplotlib.axes._subplots.AxesSubplot at 0x184f30c5fa0>"
      ]
     },
     "execution_count": 42,
     "metadata": {},
     "output_type": "execute_result"
    },
    {
     "data": {
      "image/png": "[encoded data removed]",
      "text/plain": [
       "<Figure size 432x288 with 1 Axes>"
      ]
     },
     "metadata": {
      "needs_background": "light"
     },
     "output_type": "display_data"
    }
   ],
   "source": [
    "df[\"NumberRealEstateLoansOrLines\"].plot(kind=\"box\", grid=True)"
   ]
  },
  {
   "cell_type": "code",
   "execution_count": 43,
   "metadata": {
    "ExecuteTime": {
     "end_time": "2020-08-20T07:20:07.242906Z",
     "start_time": "2020-08-20T07:20:07.146165Z"
    }
   },
   "outputs": [
    {
     "data": {
      "text/plain": [
       "<matplotlib.axes._subplots.AxesSubplot at 0x184f3099df0>"
      ]
     },
     "execution_count": 43,
     "metadata": {},
     "output_type": "execute_result"
    },
    {
     "data": {
      "image/png": "[encoded data removed]",
      "text/plain": [
       "<Figure size 432x288 with 1 Axes>"
      ]
     },
     "metadata": {
      "needs_background": "light"
     },
     "output_type": "display_data"
    }
   ],
   "source": [
    "df.NumberOfDependents.plot.box(grid=True)"
   ]
  },
  {
   "cell_type": "code",
   "execution_count": 44,
   "metadata": {
    "ExecuteTime": {
     "end_time": "2020-08-20T07:20:07.733621Z",
     "start_time": "2020-08-20T07:20:07.687718Z"
    }
   },
   "outputs": [],
   "source": [
    "depNew = []\n",
    "for var in df.NumberOfDependents:\n",
    "    if var > 10:\n",
    "        depNew.append(10)\n",
    "    else:\n",
    "        depNew.append(var)\n",
    "\n",
    "df.NumberOfDependents = depNew"
   ]
  },
  {
   "cell_type": "code",
   "execution_count": 45,
   "metadata": {
    "ExecuteTime": {
     "end_time": "2020-08-20T07:20:08.308057Z",
     "start_time": "2020-08-20T07:20:08.216301Z"
    }
   },
   "outputs": [
    {
     "data": {
      "text/plain": [
       "<matplotlib.axes._subplots.AxesSubplot at 0x184f27083d0>"
      ]
     },
     "execution_count": 45,
     "metadata": {},
     "output_type": "execute_result"
    },
    {
     "data": {
      "image/png": "[encoded data removed]",
      "text/plain": [
       "<Figure size 432x288 with 1 Axes>"
      ]
     },
     "metadata": {
      "needs_background": "light"
     },
     "output_type": "display_data"
    }
   ],
   "source": [
    "df.NumberOfDependents.plot.box(grid=True)"
   ]
  },
  {
   "cell_type": "markdown",
   "metadata": {},
   "source": [
    "### 数据切分\n",
    "    将数据进行切分，分成训练集和测试集两部分"
   ]
  },
  {
   "cell_type": "code",
   "execution_count": 48,
   "metadata": {
    "ExecuteTime": {
     "end_time": "2020-08-20T07:20:25.472404Z",
     "start_time": "2020-08-20T07:20:25.468415Z"
    }
   },
   "outputs": [],
   "source": [
    "from sklearn.model_selection import train_test_split"
   ]
  },
  {
   "cell_type": "code",
   "execution_count": 49,
   "metadata": {
    "ExecuteTime": {
     "end_time": "2020-08-20T07:20:29.088340Z",
     "start_time": "2020-08-20T07:20:28.236517Z"
    }
   },
   "outputs": [],
   "source": [
    "Y = df[\"SeriousDlqin2yrs\"]\n",
    "X = df.iloc[:, 1:]\n",
    "# 测试和训练数据进行3：7的比例进行切分 random_state定一个值是的每次运行的时候不会被随机分\n",
    "X_train, X_test, Y_train, Y_test = train_test_split(X, Y, test_size=0.3, random_state=123)\n",
    "\n",
    "train = pd.concat([Y_train, X_train], axis=1)\n",
    "test = pd.concat([Y_test, X_test], axis=1)\n",
    "\n",
    "train.to_csv('TrainData.csv',index=False)\n",
    "test.to_csv('TestData.csv',index=False)"
   ]
  },
  {
   "cell_type": "markdown",
   "metadata": {},
   "source": [
    "### 探索性数据分析\n",
    "    一般采用直方图、散点图和箱线图等来进行分析"
   ]
  },
  {
   "cell_type": "code",
   "execution_count": 50,
   "metadata": {
    "ExecuteTime": {
     "end_time": "2020-08-20T07:20:43.281083Z",
     "start_time": "2020-08-20T07:20:32.083967Z"
    }
   },
   "outputs": [
    {
     "data": {
      "image/png": "[encoded data removed]",
      "text/plain": [
       "<Figure size 864x432 with 6 Axes>"
      ]
     },
     "metadata": {
      "needs_background": "light"
     },
     "output_type": "display_data"
    }
   ],
   "source": [
    "# 下面利用直方图和核密度估计画图，Age、MonthlyIncome、NumberOfOpenCreditLinesAndLoans大致呈正太分布，符合统计分析\n",
    "\n",
    "fig = plt.figure()\n",
    "fig.set(alpha=0.2)\n",
    "\n",
    "plt.subplot2grid((2, 3), (0, 0))\n",
    "train[\"age\"].plot(kind=\"hist\", bins=30, figsize=(12, 6), grid=True)\n",
    "plt.title(\"Hist of Age\")\n",
    "\n",
    "plt.subplot2grid((2, 3), (0, 1))\n",
    "train[\"age\"].plot(kind=\"kde\", grid=True)\n",
    "plt.title(\"KDE of Age\")\n",
    "\n",
    "plt.subplot2grid((2, 3), (0, 2))\n",
    "train[\"MonthlyIncome\"].plot(kind=\"kde\", grid=True)\n",
    "plt.xlim(-20000, 80000)\n",
    "plt.title(\"KDE of MonthlyIncome\")\n",
    "\n",
    "plt.subplot2grid((2, 3), (1, 0))\n",
    "train[\"NumberOfDependents\"].plot(kind=\"kde\")\n",
    "plt.title(\"KDE of NumberOfDependents\")\n",
    "\n",
    "plt.subplot2grid((2, 3), (1, 1))\n",
    "train[\"NumberOfOpenCreditLinesAndLoans\"].plot(kind=\"kde\")\n",
    "plt.title(\"KDE of NumberOfOpenCreditLinesAndLoans\")\n",
    "\n",
    "plt.subplot2grid((2, 3), (1, 2))\n",
    "train[\"NumberRealEstateLoansOrLines\"].plot(kind=\"kde\")\n",
    "plt.title(\"KDE of NumberRealEstateLoansOrLines\")\n",
    "\n",
    "# 解决中文的显示问题\n",
    "plt.rcParams[\"font.sans-serif\"]=[\"SimHei\"]\n",
    "plt.rcParams[\"axes.unicode_minus\"] = False\n",
    "\n",
    "plt.tight_layout() # 调整子图之间的间距，紧凑显示图像\n",
    "plt.show()"
   ]
  },
  {
   "cell_type": "markdown",
   "metadata": {
    "collapsed": true
   },
   "source": [
    "### 特征选择\n",
    "    变量分箱：\n",
    "    \n",
    "        将连续变量离散化\n",
    "           \n",
    "        将多状态的离散变量合并成少状态\n",
    "              \n",
    "    变量分箱的重要性：\n",
    "    \n",
    "        1、稳定性：避免特征中无意义的波动对评分带来波动\n",
    "        \n",
    "        2、健壮性：避免极端值的影响\n",
    "        \n",
    "     变量分箱的优势：\n",
    "     \n",
    "         1、可以将缺失值作为一个独立的箱带入模型中\n",
    "         \n",
    "         2、将所有的变量变换到相似的尺度上\n",
    "         \n",
    "     变量分箱的劣势：\n",
    "     \n",
    "         1、计算量大\n",
    "         \n",
    "         2、分箱之后需要编码\n",
    "      \n",
    "     变量分箱常用的方法：\n",
    "     \n",
    "         有监督的：\n",
    "            \n",
    "            1、Best-KS； 2、ChiMerge（卡方分箱法）\n",
    "        \n",
    "         无监督的：\n",
    "            \n",
    "            1、等距； 2、等频； 3、聚类"
   ]
  },
  {
   "cell_type": "code",
   "execution_count": 51,
   "metadata": {
    "ExecuteTime": {
     "end_time": "2020-08-20T07:21:08.168407Z",
     "start_time": "2020-08-20T07:21:08.155473Z"
    }
   },
   "outputs": [],
   "source": [
    "import scipy.stats.stats as stats\n",
    "\n",
    "# 自定义自动分箱函数\n",
    "def mono_bin(Y, X, n=20):\n",
    "    r = 0\n",
    "    good = Y.sum()\n",
    "    bad = Y.count() - good\n",
    "    while np.abs(r) < 1:\n",
    "        d1 = pd.DataFrame({\"X\": X, \"Y\": Y, \"Bucket\": pd.qcut(X.rank(method=\"first\"), n)}) # X.rank(method=\"first\")\n",
    "        d2 = d1.groupby(\"Bucket\", as_index = True)\n",
    "        r, p = stats.spearmanr(d2.mean().X, d2.mean().Y) # 使用斯皮尔曼等级相关系数来评估两个变量之间的相关性\n",
    "        n = n - 1\n",
    "    d3 = pd.DataFrame(d2.X.min(), columns = ['min'])\n",
    "    d3['min']=d2.min().X\n",
    "    d3['max'] = d2.max().X\n",
    "    d3['sum'] = d2.sum().Y\n",
    "    d3['total'] = d2.count().Y\n",
    "    d3['rate'] = d2.mean().Y\n",
    "    d3['woe'] = np.log((d3['rate'] / (1-d3['rate'])) / (good/bad))\n",
    "    d3['goodattribute'] = d3['sum'] / good\n",
    "    d3['badattribute'] = (d3['total'] - d3['sum']) / bad\n",
    "    iv = ((d3['goodattribute'] - d3['badattribute']) * d3['woe']).sum()\n",
    "    d4 = (d3.sort_values(by = 'min'))\n",
    "    print(d4)\n",
    "    cut=[]\n",
    "    cut.append(float('-inf'))\n",
    "    for i in range(1, n+1):\n",
    "        qua = X.quantile(i/(n+1))\n",
    "        cut.append(round(qua,4))\n",
    "    cut.append(float('inf'))\n",
    "    woe = list(d4['woe'].round(3))\n",
    "    return d4, iv, cut, woe"
   ]
  },
  {
   "cell_type": "code",
   "execution_count": 52,
   "metadata": {
    "ExecuteTime": {
     "end_time": "2020-08-20T07:21:09.092964Z",
     "start_time": "2020-08-20T07:21:09.083989Z"
    }
   },
   "outputs": [],
   "source": [
    "# 自定义分箱函数\n",
    "def self_bin(Y, X, cat):\n",
    "    good = Y.sum()\n",
    "    bad = Y.count() - good\n",
    "    d1 = pd.DataFrame({'X': X, 'Y': Y,'Bucket': pd.cut(X, cat)})\n",
    "    d2 = d1.groupby('Bucket', as_index = True)\n",
    "    d3 = pd.DataFrame(d2.X.min(), columns=['min'])\n",
    "    d3['min'] = d2.min().X\n",
    "    d3['max'] = d2.max().X\n",
    "    d3['sum'] = d2.sum().Y\n",
    "    d3['total'] = d2.count().Y\n",
    "    d3['rate'] = d2.mean().Y\n",
    "    d3['woe'] = np.log((d3['rate'] / (1 - d3['rate'])) / (good / bad))\n",
    "    d3['goodattribute'] = d3['sum'] / good\n",
    "    d3['badattribute'] = (d3['total'] - d3['sum']) / bad\n",
    "    iv = ((d3['goodattribute'] - d3['badattribute']) * d3['woe']).sum()\n",
    "    d4 = (d3.sort_values(by = 'min'))\n",
    "    print(d4)\n",
    "    woe = list(d4['woe'].round(3))\n",
    "    return d4, iv, woe"
   ]
  },
  {
   "cell_type": "code",
   "execution_count": 53,
   "metadata": {
    "ExecuteTime": {
     "end_time": "2020-08-20T07:21:11.200247Z",
     "start_time": "2020-08-20T07:21:10.979810Z"
    }
   },
   "outputs": [
    {
     "name": "stdout",
     "output_type": "stream",
     "text": [
      "                          min       max   sum  total      rate       woe  \\\n",
      "Bucket                                                                     \n",
      "(0.999, 21030.25]    0.000000  0.034898   440  21030  0.020922 -1.250802   \n",
      "(21030.25, 42059.5]  0.034899  0.177117   499  21029  0.023729 -1.122053   \n",
      "(42059.5, 63088.75]  0.177143  0.578850  1128  21029  0.053640 -0.275340   \n",
      "(63088.75, 84118.0]  0.578865  2.000000  3776  21030  0.179553  1.075605   \n",
      "\n",
      "                     goodattribute  badattribute  \n",
      "Bucket                                            \n",
      "(0.999, 21030.25]         0.075304      0.263047  \n",
      "(21030.25, 42059.5]       0.085401      0.262280  \n",
      "(42059.5, 63088.75]       0.193052      0.254245  \n",
      "(63088.75, 84118.0]       0.646243      0.220428  \n"
     ]
    }
   ],
   "source": [
    "dfx1, ivx1, cutx1, woex1 = mono_bin(train.SeriousDlqin2yrs, train.RevolvingUtilizationOfUnsecuredLines, n=10)"
   ]
  },
  {
   "cell_type": "code",
   "execution_count": 54,
   "metadata": {
    "ExecuteTime": {
     "end_time": "2020-08-20T07:21:11.892368Z",
     "start_time": "2020-08-20T07:21:11.802637Z"
    }
   },
   "outputs": [
    {
     "name": "stdout",
     "output_type": "stream",
     "text": [
      "                        min  max   sum  total      rate       woe  \\\n",
      "Bucket                                                              \n",
      "(0.999, 9347.333]        21   33  1041   9347  0.111373  0.518188   \n",
      "(9347.333, 18693.667]    33   39   904   9346  0.096726  0.360839   \n",
      "(18693.667, 28040.0]     39   44   843   9347  0.090189  0.283659   \n",
      "(28040.0, 37386.333]     44   49   739   9346  0.079071  0.139951   \n",
      "(37386.333, 46732.667]   49   53   720   9346  0.077038  0.111699   \n",
      "(46732.667, 56079.0]     53   58   609   9347  0.065155 -0.068634   \n",
      "(56079.0, 65425.333]     58   63   465   9346  0.049754 -0.354648   \n",
      "(65425.333, 74771.667]   63   70   285   9346  0.030494 -0.864262   \n",
      "(74771.667, 84118.0]     70  103   237   9347  0.025356 -1.054084   \n",
      "\n",
      "                        goodattribute  badattribute  \n",
      "Bucket                                               \n",
      "(0.999, 9347.333]            0.178162      0.106113  \n",
      "(9347.333, 18693.667]        0.154715      0.107851  \n",
      "(18693.667, 28040.0]         0.144275      0.108643  \n",
      "(28040.0, 37386.333]         0.126476      0.109958  \n",
      "(37386.333, 46732.667]       0.123224      0.110201  \n",
      "(46732.667, 56079.0]         0.104227      0.111632  \n",
      "(56079.0, 65425.333]         0.079582      0.113459  \n",
      "(65425.333, 74771.667]       0.048776      0.115759  \n",
      "(74771.667, 84118.0]         0.040561      0.116385  \n"
     ]
    }
   ],
   "source": [
    "dfx2, ivx2, cutx2, woex2 = mono_bin(train.SeriousDlqin2yrs, train.age, n=10)"
   ]
  },
  {
   "cell_type": "code",
   "execution_count": 55,
   "metadata": {
    "ExecuteTime": {
     "end_time": "2020-08-20T07:21:12.505770Z",
     "start_time": "2020-08-20T07:21:12.502736Z"
    }
   },
   "outputs": [],
   "source": [
    "pinf = float('inf') # 正无穷大\n",
    "ninf = float('-inf') # 负无穷大"
   ]
  },
  {
   "cell_type": "code",
   "execution_count": 56,
   "metadata": {
    "ExecuteTime": {
     "end_time": "2020-08-20T07:21:13.154992Z",
     "start_time": "2020-08-20T07:21:13.121082Z"
    }
   },
   "outputs": [
    {
     "name": "stdout",
     "output_type": "stream",
     "text": [
      "             min   max   sum  total      rate       woe  goodattribute  \\\n",
      "Bucket                                                                   \n",
      "(-inf, 0.0]  0.0   0.0  2975  70030  0.042482 -0.520285       0.509156   \n",
      "(0.0, 1.0]   1.0   1.0  1418   9468  0.149768  0.858559       0.242684   \n",
      "(1.0, 3.0]   2.0   3.0  1092   3830  0.285117  1.675767       0.186890   \n",
      "(3.0, 5.0]   4.0   5.0   283    631  0.448494  2.388228       0.048434   \n",
      "(5.0, inf]   6.0  13.0    75    159  0.471698  2.481655       0.012836   \n",
      "\n",
      "             badattribute  \n",
      "Bucket                     \n",
      "(-inf, 0.0]      0.856659  \n",
      "(0.0, 1.0]       0.102843  \n",
      "(1.0, 3.0]       0.034979  \n",
      "(3.0, 5.0]       0.004446  \n",
      "(5.0, inf]       0.001073  \n"
     ]
    }
   ],
   "source": [
    "cutx3 = [ninf, 0, 1, 3, 5, pinf]\n",
    "dfx3, ivx3, woex3 = self_bin(train.SeriousDlqin2yrs, train[\"NumberOfTime30-59DaysPastDueNotWorse\"], cutx3)"
   ]
  },
  {
   "cell_type": "code",
   "execution_count": 57,
   "metadata": {
    "ExecuteTime": {
     "end_time": "2020-08-20T07:21:13.793316Z",
     "start_time": "2020-08-20T07:21:13.783311Z"
    }
   },
   "outputs": [
    {
     "data": {
      "text/plain": [
       "count    120169.000000\n",
       "mean          0.356675\n",
       "std           0.293965\n",
       "min           0.000000\n",
       "25%           0.143842\n",
       "50%           0.296171\n",
       "75%           0.482710\n",
       "max           1.159672\n",
       "Name: DebtRatio, dtype: float64"
      ]
     },
     "execution_count": 57,
     "metadata": {},
     "output_type": "execute_result"
    }
   ],
   "source": [
    "df.DebtRatio.describe()"
   ]
  },
  {
   "cell_type": "code",
   "execution_count": 58,
   "metadata": {
    "ExecuteTime": {
     "end_time": "2020-08-20T07:21:14.959167Z",
     "start_time": "2020-08-20T07:21:14.418613Z"
    }
   },
   "outputs": [
    {
     "name": "stdout",
     "output_type": "stream",
     "text": [
      "                  min       max   sum  total      rate  woe  goodattribute  \\\n",
      "Bucket                                                                       \n",
      "(0.999, 84118.0]  0.0  1.159672  5843  84118  0.069462  0.0            1.0   \n",
      "\n",
      "                  badattribute  \n",
      "Bucket                          \n",
      "(0.999, 84118.0]           1.0  \n"
     ]
    }
   ],
   "source": [
    "dfx4, ivx4, cutx4, woex4 = mono_bin(train.SeriousDlqin2yrs, train.DebtRatio, n=20)"
   ]
  },
  {
   "cell_type": "code",
   "execution_count": 59,
   "metadata": {
    "ExecuteTime": {
     "end_time": "2020-08-20T07:21:15.749055Z",
     "start_time": "2020-08-20T07:21:15.590479Z"
    }
   },
   "outputs": [
    {
     "name": "stdout",
     "output_type": "stream",
     "text": [
      "                       min      max   sum  total      rate       woe  \\\n",
      "Bucket                                                                 \n",
      "(0.999, 14020.5]       0.0   2700.0  1284  14020  0.091583  0.300531   \n",
      "(14020.5, 28040.0]  2700.0   4000.0  1243  14020  0.088659  0.264865   \n",
      "(28040.0, 42059.5]  4000.0   5400.0  1058  14019  0.075469  0.089419   \n",
      "(42059.5, 56079.0]  5400.0   7083.0   875  14020  0.062411 -0.114589   \n",
      "(56079.0, 70098.5]  7083.0   9900.0   775  14019  0.055282 -0.243453   \n",
      "(70098.5, 84118.0]  9900.0  17403.0   608  14020  0.043367 -0.498746   \n",
      "\n",
      "                    goodattribute  badattribute  \n",
      "Bucket                                           \n",
      "(0.999, 14020.5]         0.219750      0.162708  \n",
      "(14020.5, 28040.0]       0.212733      0.163232  \n",
      "(28040.0, 42059.5]       0.181071      0.165583  \n",
      "(42059.5, 56079.0]       0.149752      0.167934  \n",
      "(56079.0, 70098.5]       0.132637      0.169198  \n",
      "(70098.5, 84118.0]       0.104056      0.171345  \n"
     ]
    }
   ],
   "source": [
    "dfx5, ivx5, cutx5, woex5 = mono_bin(train.SeriousDlqin2yrs, train.MonthlyIncome, n=10)"
   ]
  },
  {
   "cell_type": "code",
   "execution_count": 60,
   "metadata": {
    "ExecuteTime": {
     "end_time": "2020-08-20T07:21:16.425282Z",
     "start_time": "2020-08-20T07:21:16.390340Z"
    }
   },
   "outputs": [
    {
     "name": "stdout",
     "output_type": "stream",
     "text": [
      "             min  max   sum  total      rate       woe  goodattribute  \\\n",
      "Bucket                                                                  \n",
      "(-inf, 1.0]    0    1   497   2849  0.174447  1.040553       0.085059   \n",
      "(1.0, 2.0]     2    2   333   3278  0.101586  0.415262       0.056991   \n",
      "(2.0, 3.0]     3    3   391   4530  0.086313  0.235482       0.066918   \n",
      "(3.0, 5.0]     4    5   902  13031  0.069220 -0.003756       0.154373   \n",
      "(5.0, inf]     6   24  3720  60430  0.061559 -0.129243       0.636659   \n",
      "\n",
      "             badattribute  \n",
      "Bucket                     \n",
      "(-inf, 1.0]      0.030048  \n",
      "(1.0, 2.0]       0.037624  \n",
      "(2.0, 3.0]       0.052878  \n",
      "(3.0, 5.0]       0.154954  \n",
      "(5.0, inf]       0.724497  \n"
     ]
    }
   ],
   "source": [
    "cutx6 = [ninf, 1, 2, 3, 5, pinf]\n",
    "dfx6, ivx6, woex6 = self_bin(train.SeriousDlqin2yrs, train.NumberOfOpenCreditLinesAndLoans, cutx6)"
   ]
  },
  {
   "cell_type": "code",
   "execution_count": 61,
   "metadata": {
    "ExecuteTime": {
     "end_time": "2020-08-20T07:21:17.110415Z",
     "start_time": "2020-08-20T07:21:17.075508Z"
    }
   },
   "outputs": [
    {
     "name": "stdout",
     "output_type": "stream",
     "text": [
      "             min   max   sum  total      rate       woe  goodattribute  \\\n",
      "Bucket                                                                   \n",
      "(-inf, 0.0]  0.0   0.0  3960  79587  0.049757 -0.354585       0.677734   \n",
      "(0.0, 1.0]   1.0   1.0  1006   2969  0.338835  1.926492       0.172172   \n",
      "(1.0, 3.0]   2.0   3.0   653   1215  0.537449  2.745059       0.111758   \n",
      "(3.0, inf]   4.0  17.0   224    347  0.645533  3.194446       0.038336   \n",
      "\n",
      "             badattribute  \n",
      "Bucket                     \n",
      "(-inf, 0.0]      0.966171  \n",
      "(0.0, 1.0]       0.025078  \n",
      "(1.0, 3.0]       0.007180  \n",
      "(3.0, inf]       0.001571  \n"
     ]
    }
   ],
   "source": [
    "cutx7 = [ninf, 0, 1, 3, pinf]\n",
    "dfx7, ivx7, woex7 = self_bin(train.SeriousDlqin2yrs, train[\"NumberOfTimes90DaysLate\"], cutx7)"
   ]
  },
  {
   "cell_type": "code",
   "execution_count": 62,
   "metadata": {
    "ExecuteTime": {
     "end_time": "2020-08-20T07:21:17.805584Z",
     "start_time": "2020-08-20T07:21:17.769694Z"
    }
   },
   "outputs": [
    {
     "name": "stdout",
     "output_type": "stream",
     "text": [
      "             min  max   sum  total      rate       woe  goodattribute  \\\n",
      "Bucket                                                                  \n",
      "(-inf, 0.0]    0    0  2588  30373  0.085207  0.221373       0.442923   \n",
      "(0.0, 1.0]     1    1  1666  29253  0.056951 -0.211935       0.285128   \n",
      "(1.0, 2.0]     2    2  1069  18642  0.057344 -0.204656       0.182954   \n",
      "(2.0, 3.0]     3    3   260   3721  0.069874  0.006353       0.044498   \n",
      "(3.0, inf]     4   17   260   2129  0.122123  0.622507       0.044498   \n",
      "\n",
      "             badattribute  \n",
      "Bucket                     \n",
      "(-inf, 0.0]      0.354966  \n",
      "(0.0, 1.0]       0.352437  \n",
      "(1.0, 2.0]       0.224503  \n",
      "(2.0, 3.0]       0.044216  \n",
      "(3.0, inf]       0.023877  \n"
     ]
    }
   ],
   "source": [
    "cutx8 = [ninf, 0, 1, 2, 3, pinf]\n",
    "dfx8, ivx8, woex8 = self_bin(train.SeriousDlqin2yrs, train[\"NumberRealEstateLoansOrLines\"], cutx8)"
   ]
  },
  {
   "cell_type": "code",
   "execution_count": 63,
   "metadata": {
    "ExecuteTime": {
     "end_time": "2020-08-20T07:21:18.517651Z",
     "start_time": "2020-08-20T07:21:18.480750Z"
    }
   },
   "outputs": [
    {
     "name": "stdout",
     "output_type": "stream",
     "text": [
      "             min   max   sum  total      rate       woe  goodattribute  \\\n",
      "Bucket                                                                   \n",
      "(-inf, 0.0]  0.0   0.0  4333  79826  0.054281 -0.262796       0.741571   \n",
      "(0.0, 1.0]   1.0   1.0  1020   3379  0.301864  1.756549       0.174568   \n",
      "(1.0, 3.0]   2.0   3.0   431    824  0.523058  2.687282       0.073763   \n",
      "(3.0, inf]   4.0  11.0    59     89  0.662921  3.271324       0.010098   \n",
      "\n",
      "             badattribute  \n",
      "Bucket                     \n",
      "(-inf, 0.0]      0.964459  \n",
      "(0.0, 1.0]       0.030137  \n",
      "(1.0, 3.0]       0.005021  \n",
      "(3.0, inf]       0.000383  \n"
     ]
    }
   ],
   "source": [
    "cutx9 = [ninf, 0, 1, 3, pinf]\n",
    "dfx9, ivx9, woex9 = self_bin(train.SeriousDlqin2yrs, train[\"NumberOfTime60-89DaysPastDueNotWorse\"], cutx9)"
   ]
  },
  {
   "cell_type": "code",
   "execution_count": 64,
   "metadata": {
    "ExecuteTime": {
     "end_time": "2020-08-20T07:21:19.239720Z",
     "start_time": "2020-08-20T07:21:19.204848Z"
    }
   },
   "outputs": [
    {
     "name": "stdout",
     "output_type": "stream",
     "text": [
      "             min   max   sum  total      rate       woe  goodattribute  \\\n",
      "Bucket                                                                   \n",
      "(-inf, 0.0]  0.0   0.0  2710  45784  0.059191 -0.170987       0.463803   \n",
      "(0.0, 1.0]   1.0   1.0  1276  17034  0.074909  0.081366       0.218381   \n",
      "(1.0, 2.0]   2.0   2.0  1051  12724  0.082600  0.187448       0.179873   \n",
      "(2.0, inf]   3.0  10.0   806   8576  0.093983  0.329042       0.137943   \n",
      "\n",
      "             badattribute  \n",
      "Bucket                     \n",
      "(-inf, 0.0]      0.550291  \n",
      "(0.0, 1.0]       0.201316  \n",
      "(1.0, 2.0]       0.149128  \n",
      "(2.0, inf]       0.099265  \n"
     ]
    }
   ],
   "source": [
    "cutx10 = [ninf, 0, 1, 2, pinf]\n",
    "dfx10, ivx10, woex10 = self_bin(train.SeriousDlqin2yrs, train[\"NumberOfDependents\"], cutx10)"
   ]
  },
  {
   "cell_type": "markdown",
   "metadata": {},
   "source": [
    "### 相关性分析和IV筛选"
   ]
  },
  {
   "cell_type": "code",
   "execution_count": 65,
   "metadata": {
    "ExecuteTime": {
     "end_time": "2020-08-20T07:21:20.729243Z",
     "start_time": "2020-08-20T07:21:20.026123Z"
    }
   },
   "outputs": [
    {
     "data": {
      "image/png": "[encoded data removed]",
      "text/plain": [
       "<Figure size 720x720 with 2 Axes>"
      ]
     },
     "metadata": {
      "needs_background": "light"
     },
     "output_type": "display_data"
    }
   ],
   "source": [
    "corr = train.corr() # 计算各变量的相关性系数\n",
    "xticks = ['x0','x1','x2','x3','x4','x5','x6','x7','x8','x9','x10'] # x轴标签\n",
    "yticks = list(corr.index) # y轴标签\n",
    "fig = plt.figure(figsize=(10, 10))\n",
    "ax = fig.add_subplot(1, 1, 1)\n",
    "sns.heatmap(corr, annot=True, cmap='rainbow', ax=ax,\n",
    "            annot_kws={'size': 12, 'weight': 'bold', 'color': 'blue'}) # 绘制相关性系数热力图\n",
    "ax.set_xticklabels(xticks, rotation=0, fontsize=12)\n",
    "ax.set_yticklabels(yticks, rotation=0, fontsize=12)\n",
    "plt.show()"
   ]
  },
  {
   "cell_type": "markdown",
   "metadata": {},
   "source": [
    "### 上图可以看出变量之间的相关性都较小，但是 NumberOfOpenCreditLinesAndLoans 和 NumberRealEstateLoansOrLines 相对来说较大为0.43"
   ]
  },
  {
   "cell_type": "code",
   "execution_count": 66,
   "metadata": {
    "ExecuteTime": {
     "end_time": "2020-08-20T07:21:21.575979Z",
     "start_time": "2020-08-20T07:21:21.453280Z"
    }
   },
   "outputs": [
    {
     "data": {
      "image/png": "[encoded data removed]",
      "text/plain": [
       "<Figure size 576x576 with 1 Axes>"
      ]
     },
     "metadata": {
      "needs_background": "light"
     },
     "output_type": "display_data"
    }
   ],
   "source": [
    "ivlist = [ivx1, ivx2, ivx3, ivx4, ivx5, ivx6, ivx7, ivx8, ivx9, ivx10] # 各变量IV\n",
    "index = ['x1','x2','x3','x4','x5','x6','x7','x8','x9','x10'] # x轴的标签\n",
    "fig1 = plt.figure(figsize=(8, 8))\n",
    "ax1 = fig1.add_subplot(1, 1, 1)\n",
    "x = np.arange(len(index)) + 1\n",
    "ax1.bar(x, ivlist, width=0.4) # 生成柱状图\n",
    "ax1.set_xticks(x)\n",
    "ax1.set_xticklabels(index, rotation=0, fontsize=12)\n",
    "ax1.set_ylabel('IV(Information Value)', fontsize=12)\n",
    "# 在柱状图上添加数字标签\n",
    "for a, b in zip(x, ivlist):\n",
    "    plt.text(a, b + 0.01, '%.4f' % b, ha='center', va='bottom', fontsize=10)\n",
    "plt.show()"
   ]
  },
  {
   "cell_type": "markdown",
   "metadata": {
    "collapsed": true
   },
   "source": [
    "通过IV值判断变量预测能力的标准是：\n",
    "\n",
    "**< 0.02: unpredictive**\n",
    "\n",
    "**0.02 to 0.1: weak**\n",
    "\n",
    "**0.1 to 0.3: medium**\n",
    "\n",
    "**0.3 to 0.5: strong**\n",
    "\n",
    "**> 0.5: suspicious**\n",
    "\n",
    "DebtRatio、MonthlyIncome、NumberRealEstateLoansOrLines 和 NumberOfDependents 变量的IV值明显较低"
   ]
  },
  {
   "cell_type": "markdown",
   "metadata": {},
   "source": [
    "### 模型分析\n",
    "    WOE转换:\n",
    "        证据权重（Weight of Evidence,WOE）转换可以将Logistic回归模型转变为标准评分卡格式"
   ]
  },
  {
   "cell_type": "code",
   "execution_count": 67,
   "metadata": {
    "ExecuteTime": {
     "end_time": "2020-08-20T07:21:23.065708Z",
     "start_time": "2020-08-20T07:21:23.059725Z"
    }
   },
   "outputs": [],
   "source": [
    "# 替换成woe函数\n",
    "def replace_woe(series, cut, woe):\n",
    "    list = []\n",
    "    i = 0\n",
    "    while i < len(series):\n",
    "        value = series[i]\n",
    "        j = len(cut)-2\n",
    "        m = len(cut)-2\n",
    "        while j >= 0:\n",
    "            if value >= cut[j]:\n",
    "                j = -1\n",
    "            else:\n",
    "                j -= 1\n",
    "                m -= 1\n",
    "        list.append(woe[m])\n",
    "        i += 1\n",
    "    return list"
   ]
  },
  {
   "cell_type": "code",
   "execution_count": 70,
   "metadata": {
    "ExecuteTime": {
     "end_time": "2020-08-20T07:24:33.251267Z",
     "start_time": "2020-08-20T07:24:20.595023Z"
    }
   },
   "outputs": [],
   "source": [
    "from pandas import Series\n",
    "train = pd.read_csv(\"./TrainData.csv\")\n",
    "train['RevolvingUtilizationOfUnsecuredLines'] = Series(replace_woe(train['RevolvingUtilizationOfUnsecuredLines'], cutx1, woex1))\n",
    "train['age'] = Series(replace_woe(train['age'], cutx2, woex2))\n",
    "train['NumberOfTime30-59DaysPastDueNotWorse'] = Series(replace_woe(train['NumberOfTime30-59DaysPastDueNotWorse'], cutx3, woex3))\n",
    "train['DebtRatio'] = Series(replace_woe(train['DebtRatio'], cutx4, woex4))\n",
    "train['MonthlyIncome'] = Series(replace_woe(train['MonthlyIncome'], cutx5, woex5))\n",
    "train['NumberOfOpenCreditLinesAndLoans'] = Series(replace_woe(train['NumberOfOpenCreditLinesAndLoans'], cutx6, woex6))\n",
    "train['NumberOfTimes90DaysLate'] = Series(replace_woe(train['NumberOfTimes90DaysLate'], cutx7, woex7))\n",
    "train['NumberRealEstateLoansOrLines'] = Series(replace_woe(train['NumberRealEstateLoansOrLines'], cutx8, woex8))\n",
    "train['NumberOfTime60-89DaysPastDueNotWorse'] = Series(replace_woe(train['NumberOfTime60-89DaysPastDueNotWorse'], cutx9, woex9))\n",
    "train['NumberOfDependents'] = Series(replace_woe(train['NumberOfDependents'], cutx10, woex10))\n",
    "train.to_csv('WoeTrainData.csv', index=False)"
   ]
  },
  {
   "cell_type": "code",
   "execution_count": 71,
   "metadata": {
    "ExecuteTime": {
     "end_time": "2020-08-20T07:24:39.360017Z",
     "start_time": "2020-08-20T07:24:33.957263Z"
    }
   },
   "outputs": [],
   "source": [
    "test = pd.read_csv('TestData.csv')\n",
    "# 替换成woe\n",
    "test['RevolvingUtilizationOfUnsecuredLines'] = Series(replace_woe(test['RevolvingUtilizationOfUnsecuredLines'], cutx1, woex1))\n",
    "test['age'] = Series(replace_woe(test['age'], cutx2, woex2))\n",
    "test['NumberOfTime30-59DaysPastDueNotWorse'] = Series(replace_woe(test['NumberOfTime30-59DaysPastDueNotWorse'], cutx3, woex3))\n",
    "test['DebtRatio'] = Series(replace_woe(test['DebtRatio'], cutx4, woex4))\n",
    "test['MonthlyIncome'] = Series(replace_woe(test['MonthlyIncome'], cutx5, woex5))\n",
    "test['NumberOfOpenCreditLinesAndLoans'] = Series(replace_woe(test['NumberOfOpenCreditLinesAndLoans'], cutx6, woex6))\n",
    "test['NumberOfTimes90DaysLate'] = Series(replace_woe(test['NumberOfTimes90DaysLate'], cutx7, woex7))\n",
    "test['NumberRealEstateLoansOrLines'] = Series(replace_woe(test['NumberRealEstateLoansOrLines'], cutx8, woex8))\n",
    "test['NumberOfTime60-89DaysPastDueNotWorse'] = Series(replace_woe(test['NumberOfTime60-89DaysPastDueNotWorse'], cutx9, woex9))\n",
    "test['NumberOfDependents'] = Series(replace_woe(test['NumberOfDependents'], cutx10, woex10))\n",
    "test.to_csv('WoeTestData.csv', index=False)"
   ]
  },
  {
   "cell_type": "markdown",
   "metadata": {},
   "source": [
    "### 模型预测"
   ]
  },
  {
   "cell_type": "code",
   "execution_count": 73,
   "metadata": {
    "ExecuteTime": {
     "end_time": "2020-08-20T07:25:09.332977Z",
     "start_time": "2020-08-20T07:25:09.326029Z"
    }
   },
   "outputs": [],
   "source": [
    "from sklearn.model_selection import cross_val_score\n",
    "\n",
    "def cvDictGen(functions, scr, X_train=X_train, Y_train=Y_train, cv=10):\n",
    "    cvDict = {}\n",
    "    for func in functions:\n",
    "        cvScore = cross_val_score(func, X_train, Y_train, cv=cv, scoring=scr)\n",
    "        cvDict[str(func).split('(')[0]] = [cvScore.mean(), cvScore.std()]\n",
    "    \n",
    "    return cvDict\n",
    "\n",
    "def cvDictNormalize(cvDict):\n",
    "    cvDictNormalized = {}\n",
    "    for key in cvDict.keys():\n",
    "        for i in cvDict[key]:\n",
    "            cvDictNormalized[key] = ['{:0.2f}'.format((cvDict[key][0]/cvDict[list(cvDict.keys())[0]][0])),\n",
    "                                     '{:0.2f}'.format((cvDict[key][1]/cvDict[list(cvDict.keys())[0]][1]))]\n",
    "    return cvDictNormalized"
   ]
  },
  {
   "cell_type": "code",
   "execution_count": 74,
   "metadata": {
    "ExecuteTime": {
     "end_time": "2020-08-20T07:25:13.079137Z",
     "start_time": "2020-08-20T07:25:13.076116Z"
    }
   },
   "outputs": [],
   "source": [
    "from sklearn.linear_model import LogisticRegression\n",
    "from sklearn.ensemble import AdaBoostClassifier, RandomForestClassifier"
   ]
  },
  {
   "cell_type": "code",
   "execution_count": 75,
   "metadata": {
    "ExecuteTime": {
     "end_time": "2020-08-20T07:25:14.336058Z",
     "start_time": "2020-08-20T07:25:14.332099Z"
    }
   },
   "outputs": [],
   "source": [
    "lrMod = LogisticRegression(penalty='l1', solver='liblinear')"
   ]
  },
  {
   "cell_type": "code",
   "execution_count": 76,
   "metadata": {
    "ExecuteTime": {
     "end_time": "2020-08-20T07:25:15.686121Z",
     "start_time": "2020-08-20T07:25:15.682156Z"
    }
   },
   "outputs": [],
   "source": [
    "adaMod = AdaBoostClassifier(n_estimators=200)"
   ]
  },
  {
   "cell_type": "code",
   "execution_count": 77,
   "metadata": {
    "ExecuteTime": {
     "end_time": "2020-08-20T07:25:17.072268Z",
     "start_time": "2020-08-20T07:25:17.069302Z"
    }
   },
   "outputs": [],
   "source": [
    "rfMod = RandomForestClassifier(n_estimators=100)"
   ]
  },
  {
   "cell_type": "code",
   "execution_count": 78,
   "metadata": {
    "ExecuteTime": {
     "end_time": "2020-08-20T07:28:43.602451Z",
     "start_time": "2020-08-20T07:25:19.012551Z"
    }
   },
   "outputs": [],
   "source": [
    "cvD = cvDictGen(functions=[lrMod, adaMod, rfMod], scr='roc_auc')"
   ]
  },
  {
   "cell_type": "code",
   "execution_count": 79,
   "metadata": {
    "ExecuteTime": {
     "end_time": "2020-08-20T07:29:28.466536Z",
     "start_time": "2020-08-20T07:29:28.461551Z"
    }
   },
   "outputs": [
    {
     "data": {
      "text/plain": [
       "{'LogisticRegression': [0.8416603435766359, 0.008528036987048338],\n",
       " 'AdaBoostClassifier': [0.8506702845990157, 0.006587538592917613],\n",
       " 'RandomForestClassifier': [0.828335190644232, 0.007397550096806435]}"
      ]
     },
     "execution_count": 79,
     "metadata": {},
     "output_type": "execute_result"
    }
   ],
   "source": [
    "cvD"
   ]
  },
  {
   "cell_type": "code",
   "execution_count": 80,
   "metadata": {
    "ExecuteTime": {
     "end_time": "2020-08-20T07:29:41.338591Z",
     "start_time": "2020-08-20T07:29:41.333628Z"
    }
   },
   "outputs": [
    {
     "data": {
      "text/plain": [
       "{'LogisticRegression': ['1.00', '1.00'],\n",
       " 'AdaBoostClassifier': ['1.01', '0.77'],\n",
       " 'RandomForestClassifier': ['0.98', '0.87']}"
      ]
     },
     "execution_count": 80,
     "metadata": {},
     "output_type": "execute_result"
    }
   ],
   "source": [
    "cvDictNormalize(cvD)"
   ]
  },
  {
   "cell_type": "markdown",
   "metadata": {},
   "source": [
    "AdaBoost较好"
   ]
  },
  {
   "cell_type": "markdown",
   "metadata": {},
   "source": [
    "### 最优化超参数"
   ]
  },
  {
   "cell_type": "markdown",
   "metadata": {},
   "source": [
    "下面调参AdaBoost模型，随机森林模型"
   ]
  },
  {
   "cell_type": "code",
   "execution_count": 84,
   "metadata": {
    "ExecuteTime": {
     "end_time": "2020-08-20T08:27:38.592331Z",
     "start_time": "2020-08-20T08:27:38.588366Z"
    }
   },
   "outputs": [],
   "source": [
    "from sklearn.model_selection import RandomizedSearchCV\n",
    "from scipy.stats import randint"
   ]
  },
  {
   "cell_type": "code",
   "execution_count": 85,
   "metadata": {
    "ExecuteTime": {
     "end_time": "2020-08-20T08:27:41.119015Z",
     "start_time": "2020-08-20T08:27:41.115026Z"
    }
   },
   "outputs": [],
   "source": [
    "ada_param = {'n_estimators': [10,50,100,200,400],\n",
    "                 'learning_rate': [0.1, 0.05]}"
   ]
  },
  {
   "cell_type": "code",
   "execution_count": 86,
   "metadata": {
    "ExecuteTime": {
     "end_time": "2020-08-20T08:34:37.206709Z",
     "start_time": "2020-08-20T08:28:44.235595Z"
    }
   },
   "outputs": [],
   "source": [
    "randomizedSearchAda = RandomizedSearchCV(\n",
    "    estimator=adaMod, param_distributions=ada_param, scoring='roc_auc').fit(X_train, Y_train)"
   ]
  },
  {
   "cell_type": "code",
   "execution_count": 87,
   "metadata": {
    "ExecuteTime": {
     "end_time": "2020-08-20T08:42:21.185449Z",
     "start_time": "2020-08-20T08:42:21.180462Z"
    }
   },
   "outputs": [
    {
     "data": {
      "text/plain": [
       "({'n_estimators': 400, 'learning_rate': 0.1}, 0.8524652604236937)"
      ]
     },
     "execution_count": 87,
     "metadata": {},
     "output_type": "execute_result"
    }
   ],
   "source": [
    "randomizedSearchAda.best_params_, randomizedSearchAda.best_score_"
   ]
  },
  {
   "cell_type": "code",
   "execution_count": 88,
   "metadata": {
    "ExecuteTime": {
     "end_time": "2020-08-20T08:45:05.766838Z",
     "start_time": "2020-08-20T08:44:44.426906Z"
    }
   },
   "outputs": [],
   "source": [
    "bestAdaModFitted = randomizedSearchAda.best_estimator_.fit(X_train, Y_train)"
   ]
  },
  {
   "cell_type": "code",
   "execution_count": 93,
   "metadata": {
    "ExecuteTime": {
     "end_time": "2020-08-20T10:06:51.837349Z",
     "start_time": "2020-08-20T10:06:51.833331Z"
    }
   },
   "outputs": [],
   "source": [
    "rf_param = {'n_estimators': [10, 30, 50, 70, 100],\n",
    "            'max_depth': np.arange(1, 20)}"
   ]
  },
  {
   "cell_type": "code",
   "execution_count": 95,
   "metadata": {
    "ExecuteTime": {
     "end_time": "2020-08-20T10:15:07.932608Z",
     "start_time": "2020-08-20T10:12:08.922185Z"
    }
   },
   "outputs": [],
   "source": [
    "randomizedSearchRF = RandomizedSearchCV(\n",
    "    estimator=rfMod, param_distributions=rf_param, scoring='roc_auc').fit(X_train, Y_train)"
   ]
  },
  {
   "cell_type": "code",
   "execution_count": 96,
   "metadata": {
    "ExecuteTime": {
     "end_time": "2020-08-20T10:31:36.109071Z",
     "start_time": "2020-08-20T10:31:36.104111Z"
    }
   },
   "outputs": [
    {
     "data": {
      "text/plain": [
       "({'n_estimators': 100, 'max_depth': 9}, 0.8549864863654572)"
      ]
     },
     "execution_count": 96,
     "metadata": {},
     "output_type": "execute_result"
    }
   ],
   "source": [
    "randomizedSearchRF.best_params_, randomizedSearchRF.best_score_"
   ]
  },
  {
   "cell_type": "code",
   "execution_count": 97,
   "metadata": {
    "ExecuteTime": {
     "end_time": "2020-08-20T10:33:01.975575Z",
     "start_time": "2020-08-20T10:32:55.377209Z"
    }
   },
   "outputs": [],
   "source": [
    "bestRFModFitted = randomizedSearchRF.best_estimator_.fit(X_train, Y_train)"
   ]
  },
  {
   "cell_type": "code",
   "execution_count": 98,
   "metadata": {
    "ExecuteTime": {
     "end_time": "2020-08-20T10:37:36.760678Z",
     "start_time": "2020-08-20T10:33:22.536331Z"
    }
   },
   "outputs": [],
   "source": [
    "cvDictHPO = cvDictGen(\n",
    "    functions=[bestAdaModFitted, bestRFModFitted], scr='roc_auc')"
   ]
  },
  {
   "cell_type": "code",
   "execution_count": 99,
   "metadata": {
    "ExecuteTime": {
     "end_time": "2020-08-20T10:38:44.277970Z",
     "start_time": "2020-08-20T10:38:44.272983Z"
    }
   },
   "outputs": [
    {
     "data": {
      "text/plain": [
       "{'AdaBoostClassifier': ['1.00', '1.00'],\n",
       " 'RandomForestClassifier': ['1.00', '0.86']}"
      ]
     },
     "execution_count": 99,
     "metadata": {},
     "output_type": "execute_result"
    }
   ],
   "source": [
    "cvDictNormalize(cvDictHPO)"
   ]
  },
  {
   "cell_type": "code",
   "execution_count": 125,
   "metadata": {
    "ExecuteTime": {
     "end_time": "2020-08-20T14:30:11.047348Z",
     "start_time": "2020-08-20T14:30:09.403715Z"
    }
   },
   "outputs": [
    {
     "data": {
      "text/plain": [
       "[<matplotlib.lines.Line2D at 0x184f8800850>]"
      ]
     },
     "execution_count": 125,
     "metadata": {},
     "output_type": "execute_result"
    },
    {
     "data": {
      "image/png": "[encoded data removed]",
      "text/plain": [
       "<Figure size 432x288 with 1 Axes>"
      ]
     },
     "metadata": {
      "needs_background": "light"
     },
     "output_type": "display_data"
    }
   ],
   "source": [
    "from sklearn.metrics import roc_curve, auc\n",
    "\n",
    "probas = randomizedSearchAda.predict_proba(X_test)\n",
    "fpr, tpr, _ = roc_curve(Y_test, probas[:, 1])\n",
    "area = auc(fpr, tpr)\n",
    "plt.title('AUC={:.2f}'.format(area))\n",
    "plt.plot(fpr, tpr)\n"
   ]
  },
  {
   "cell_type": "code",
   "execution_count": 126,
   "metadata": {
    "ExecuteTime": {
     "end_time": "2020-08-20T14:30:16.320434Z",
     "start_time": "2020-08-20T14:30:15.931474Z"
    },
    "scrolled": true
   },
   "outputs": [
    {
     "data": {
      "text/plain": [
       "[<matplotlib.lines.Line2D at 0x184f96394f0>]"
      ]
     },
     "execution_count": 126,
     "metadata": {},
     "output_type": "execute_result"
    },
    {
     "data": {
      "image/png": "[encoded data removed]",
      "text/plain": [
       "<Figure size 432x288 with 1 Axes>"
      ]
     },
     "metadata": {
      "needs_background": "light"
     },
     "output_type": "display_data"
    }
   ],
   "source": [
    "from sklearn.metrics import roc_curve, auc\n",
    "\n",
    "probas = randomizedSearchRF.predict_proba(X_test)\n",
    "fpr, tpr, _ = roc_curve(Y_test, probas[:, 1])\n",
    "area = auc(fpr, tpr)\n",
    "plt.title('AUC={:.2f}'.format(area))\n",
    "plt.plot(fpr, tpr)\n"
   ]
  },
  {
   "cell_type": "code",
   "execution_count": 131,
   "metadata": {
    "ExecuteTime": {
     "end_time": "2020-08-20T14:36:15.023375Z",
     "start_time": "2020-08-20T14:36:14.820918Z"
    }
   },
   "outputs": [
    {
     "data": {
      "text/plain": [
       "LogisticRegression(penalty='l1', solver='liblinear')"
      ]
     },
     "execution_count": 131,
     "metadata": {},
     "output_type": "execute_result"
    }
   ],
   "source": [
    "lrMod.fit(X_train, Y_train)"
   ]
  },
  {
   "cell_type": "code",
   "execution_count": 132,
   "metadata": {
    "ExecuteTime": {
     "end_time": "2020-08-20T14:36:21.962105Z",
     "start_time": "2020-08-20T14:36:21.957119Z"
    }
   },
   "outputs": [
    {
     "data": {
      "text/plain": [
       "array([[ 1.69424584e+00, -2.23093333e-02,  4.24485139e-01,\n",
       "         1.21193396e-02, -5.76733411e-05,  2.69032894e-02,\n",
       "         6.46477549e-01,  1.41093985e-01,  6.30614251e-01,\n",
       "         5.65010362e-02]])"
      ]
     },
     "execution_count": 132,
     "metadata": {},
     "output_type": "execute_result"
    }
   ],
   "source": [
    "lrMod.coef_"
   ]
  },
  {
   "cell_type": "markdown",
   "metadata": {},
   "source": [
    "LR模型"
   ]
  },
  {
   "cell_type": "code",
   "execution_count": 134,
   "metadata": {
    "ExecuteTime": {
     "end_time": "2020-08-20T14:42:49.906305Z",
     "start_time": "2020-08-20T14:42:48.749400Z"
    }
   },
   "outputs": [
    {
     "data": {
      "text/plain": [
       "LogisticRegression(penalty='l1', solver='liblinear')"
      ]
     },
     "execution_count": 134,
     "metadata": {},
     "output_type": "execute_result"
    }
   ],
   "source": [
    "data = pd.read_csv('./WoeTrainData.csv')\n",
    "#应变量\n",
    "data_Y = data['SeriousDlqin2yrs']\n",
    "#自变量，剔除对因变量影响不明显的变量\n",
    "data_X = data.drop(['SeriousDlqin2yrs','DebtRatio','NumberRealEstateLoansOrLines','NumberOfDependents'],axis=1)\n",
    "lrMod.fit(data_X, data_Y)"
   ]
  },
  {
   "cell_type": "code",
   "execution_count": 135,
   "metadata": {
    "ExecuteTime": {
     "end_time": "2020-08-20T14:42:52.530612Z",
     "start_time": "2020-08-20T14:42:52.371069Z"
    }
   },
   "outputs": [
    {
     "data": {
      "text/plain": [
       "[<matplotlib.lines.Line2D at 0x184f8a28880>]"
      ]
     },
     "execution_count": 135,
     "metadata": {},
     "output_type": "execute_result"
    },
    {
     "data": {
      "image/png": "[encoded data removed]",
      "text/plain": [
       "<Figure size 432x288 with 1 Axes>"
      ]
     },
     "metadata": {
      "needs_background": "light"
     },
     "output_type": "display_data"
    }
   ],
   "source": [
    "from sklearn.metrics import roc_curve, auc\n",
    "data = pd.read_csv('./WoeTestData.csv')\n",
    "#应变量\n",
    "data_Y = data['SeriousDlqin2yrs']\n",
    "#自变量，剔除对因变量影响不明显的变量\n",
    "data_X = data.drop(['SeriousDlqin2yrs','DebtRatio','NumberRealEstateLoansOrLines','NumberOfDependents'],axis=1)\n",
    "probas = lrMod.predict_proba(data_X)\n",
    "fpr, tpr, _ = roc_curve(data_Y, probas[:, 1])\n",
    "area = auc(fpr, tpr)\n",
    "plt.title('AUC={:.2f}'.format(area))\n",
    "plt.plot(fpr, tpr)\n"
   ]
  },
  {
   "cell_type": "code",
   "execution_count": 136,
   "metadata": {
    "ExecuteTime": {
     "end_time": "2020-08-20T14:44:33.252777Z",
     "start_time": "2020-08-20T14:44:32.732201Z"
    }
   },
   "outputs": [
    {
     "name": "stdout",
     "output_type": "stream",
     "text": [
      "Optimization terminated successfully.\n",
      "         Current function value: 0.194123\n",
      "         Iterations 8\n",
      "                           Logit Regression Results                           \n",
      "==============================================================================\n",
      "Dep. Variable:       SeriousDlqin2yrs   No. Observations:                84118\n",
      "Model:                          Logit   Df Residuals:                    84110\n",
      "Method:                           MLE   Df Model:                            7\n",
      "Date:                Thu, 20 Aug 2020   Pseudo R-squ.:                  0.2304\n",
      "Time:                        22:44:33   Log-Likelihood:                -16329.\n",
      "converged:                       True   LL-Null:                       -21218.\n",
      "Covariance Type:            nonrobust   LLR p-value:                     0.000\n",
      "========================================================================================================\n",
      "                                           coef    std err          z      P>|z|      [0.025      0.975]\n",
      "--------------------------------------------------------------------------------------------------------\n",
      "const                                   -8.8809      0.111    -79.710      0.000      -9.099      -8.663\n",
      "RevolvingUtilizationOfUnsecuredLines     0.6194      0.018     35.300      0.000       0.585       0.654\n",
      "age                                      0.4840      0.036     13.274      0.000       0.413       0.555\n",
      "NumberOfTime30-59DaysPastDueNotWorse     1.0439      0.032     32.150      0.000       0.980       1.108\n",
      "MonthlyIncome                            0.3803      0.059      6.478      0.000       0.265       0.495\n",
      "NumberOfOpenCreditLinesAndLoans          0.3300      0.072      4.592      0.000       0.189       0.471\n",
      "NumberOfTimes90DaysLate                  1.6004      0.045     35.694      0.000       1.512       1.688\n",
      "NumberOfTime60-89DaysPastDueNotWorse     1.0014      0.044     22.525      0.000       0.914       1.089\n",
      "========================================================================================================\n"
     ]
    }
   ],
   "source": [
    "import statsmodels.api as sm\n",
    "from sklearn.metrics import roc_curve, auc\n",
    "# 导入数据\n",
    "data = pd.read_csv('./WoeTrainData.csv')\n",
    "#应变量\n",
    "Y = data['SeriousDlqin2yrs']\n",
    "#自变量，剔除对因变量影响不明显的变量\n",
    "X = data.drop(['SeriousDlqin2yrs','DebtRatio','NumberRealEstateLoansOrLines','NumberOfDependents'],axis=1)\n",
    "# X = data.drop(['SeriousDlqin2yrs','DebtRatio','MonthlyIncome', 'NumberOfOpenCreditLinesAndLoans','NumberRealEstateLoansOrLines','NumberOfDependents'],axis=1)\n",
    "X1 = sm.add_constant(X)\n",
    "logit = sm.Logit(Y, X1)\n",
    "result = logit.fit()\n",
    "print(result.summary())"
   ]
  },
  {
   "cell_type": "code",
   "execution_count": 137,
   "metadata": {
    "ExecuteTime": {
     "end_time": "2020-08-20T14:46:14.180301Z",
     "start_time": "2020-08-20T14:46:14.011753Z"
    }
   },
   "outputs": [
    {
     "name": "stderr",
     "output_type": "stream",
     "text": [
      "No handles with labels found to put in legend.\n"
     ]
    },
    {
     "data": {
      "image/png": "[encoded data removed]",
      "text/plain": [
       "<Figure size 432x288 with 1 Axes>"
      ]
     },
     "metadata": {
      "needs_background": "light"
     },
     "output_type": "display_data"
    }
   ],
   "source": [
    "test = pd.read_csv('./WoeTestData.csv')\n",
    "Y_test = test['SeriousDlqin2yrs']\n",
    "# X_test = test.drop(['SeriousDlqin2yrs', 'DebtRatio', 'MonthlyIncome', 'NumberOfOpenCreditLinesAndLoans','NumberRealEstateLoansOrLines', 'NumberOfDependents'], axis=1)\n",
    "X_test = test.drop(['SeriousDlqin2yrs', 'DebtRatio', 'NumberRealEstateLoansOrLines', 'NumberOfDependents'], axis=1)\n",
    "X3 = sm.add_constant(X_test)\n",
    "resu = result.predict(X3)\n",
    "fpr, tpr, threshold = roc_curve(Y_test, resu)\n",
    "area = auc(fpr, tpr)\n",
    "plt.plot(fpr, tpr)\n",
    "plt.title('AUC={:.2f}'.format(area))\n",
    "plt.legend(loc = 'lower right')\n",
    "plt.plot([0, 1], [0, 1], 'r--')\n",
    "plt.xlim([0, 1])\n",
    "plt.ylim([0, 1])\n",
    "plt.ylabel('真正率')\n",
    "plt.xlabel('假正率')\n",
    "plt.show()"
   ]
  },
  {
   "cell_type": "code",
   "execution_count": 138,
   "metadata": {
    "ExecuteTime": {
     "end_time": "2020-08-20T14:46:27.313629Z",
     "start_time": "2020-08-20T14:46:27.308671Z"
    }
   },
   "outputs": [
    {
     "data": {
      "text/plain": [
       "array([[0.6202146 , 0.48306411, 1.04259631, 0.37845357, 0.32675346,\n",
       "        1.59539198, 0.99665003]])"
      ]
     },
     "execution_count": 138,
     "metadata": {},
     "output_type": "execute_result"
    }
   ],
   "source": [
    "lrMod.coef_ "
   ]
  },
  {
   "cell_type": "code",
   "execution_count": 139,
   "metadata": {
    "ExecuteTime": {
     "end_time": "2020-08-20T14:48:22.378964Z",
     "start_time": "2020-08-20T14:48:22.373975Z"
    }
   },
   "outputs": [],
   "source": [
    "import math\n",
    "# coe为逻辑回归模型的系数\n",
    "coe = [-8.8809, 0.6202146, 0.48306411, 1.04259631, 0.37845357, 0.32675346,\n",
    "       1.59539198, 0.99665003]\n",
    "\n",
    "p = 20 / math.log(2)\n",
    "q = 600 - 20 * math.log(20) / math.log(2)\n",
    "baseScore = round(q + p * coe[0], 0)"
   ]
  },
  {
   "cell_type": "code",
   "execution_count": 140,
   "metadata": {
    "ExecuteTime": {
     "end_time": "2020-08-20T14:48:23.216716Z",
     "start_time": "2020-08-20T14:48:23.212703Z"
    }
   },
   "outputs": [
    {
     "data": {
      "text/plain": [
       "257.0"
      ]
     },
     "execution_count": 140,
     "metadata": {},
     "output_type": "execute_result"
    }
   ],
   "source": [
    "baseScore"
   ]
  },
  {
   "cell_type": "code",
   "execution_count": 141,
   "metadata": {
    "ExecuteTime": {
     "end_time": "2020-08-20T14:48:27.647997Z",
     "start_time": "2020-08-20T14:48:27.643975Z"
    }
   },
   "outputs": [],
   "source": [
    "def get_score(coe, woe, factor):\n",
    "    scores = []\n",
    "    for w in woe:\n",
    "        score = round(coe * w * factor, 0)\n",
    "        scores.append(score)\n",
    "    return scores"
   ]
  },
  {
   "cell_type": "code",
   "execution_count": 142,
   "metadata": {
    "ExecuteTime": {
     "end_time": "2020-08-20T14:48:30.018717Z",
     "start_time": "2020-08-20T14:48:30.012763Z"
    }
   },
   "outputs": [],
   "source": [
    "x1 = get_score(coe[1], woex1, p)\n",
    "x2 = get_score(coe[2], woex2, p)\n",
    "x3 = get_score(coe[3], woex3, p)\n",
    "x5 = get_score(coe[4], woex5, p)\n",
    "x6 = get_score(coe[5], woex6, p)\n",
    "x7 = get_score(coe[6], woex7, p)\n",
    "x9 = get_score(coe[7], woex9, p)"
   ]
  },
  {
   "cell_type": "code",
   "execution_count": 143,
   "metadata": {
    "ExecuteTime": {
     "end_time": "2020-08-20T14:48:31.679114Z",
     "start_time": "2020-08-20T14:48:31.676120Z"
    }
   },
   "outputs": [
    {
     "name": "stdout",
     "output_type": "stream",
     "text": [
      "[-22.0, -20.0, -5.0, 19.0] [7.0, 5.0, 4.0, 2.0, 2.0, -1.0, -5.0, -12.0, -15.0] [-16.0, 26.0, 50.0, 72.0, 75.0] [3.0, 3.0, 1.0, -1.0, -3.0, -5.0] [10.0, 4.0, 2.0, -0.0, -1.0] [-16.0, 89.0, 126.0, 147.0] [-8.0, 51.0, 77.0, 94.0]\n"
     ]
    }
   ],
   "source": [
    "print(x1, x2, x3, x5, x6, x7, x9)"
   ]
  },
  {
   "cell_type": "code",
   "execution_count": 144,
   "metadata": {
    "ExecuteTime": {
     "end_time": "2020-08-20T14:48:33.625190Z",
     "start_time": "2020-08-20T14:48:33.619209Z"
    }
   },
   "outputs": [],
   "source": [
    "def compute_score(series, cut, score):\n",
    "    list = []\n",
    "    i = 0\n",
    "    while i < len(series):\n",
    "        value = series[i]\n",
    "        j = len(cut) - 2\n",
    "        m = len(cut) - 2\n",
    "        while j >= 0:\n",
    "            if value >= cut[j]:\n",
    "                j = -1\n",
    "            else:\n",
    "                j -= 1\n",
    "                m -= 1\n",
    "        list.append(score[m])\n",
    "        i += 1\n",
    "    return list"
   ]
  },
  {
   "cell_type": "code",
   "execution_count": 145,
   "metadata": {
    "ExecuteTime": {
     "end_time": "2020-08-20T14:48:38.551072Z",
     "start_time": "2020-08-20T14:48:34.461953Z"
    }
   },
   "outputs": [],
   "source": [
    "test1 = pd.read_csv('TestData.csv')\n",
    "test1['BaseScore'] = Series(np.zeros(len(test1))) + baseScore\n",
    "test1['x1'] = Series(compute_score(test1['RevolvingUtilizationOfUnsecuredLines'], cutx1, x1))\n",
    "test1['x2'] = Series(compute_score(test1['age'], cutx2, x2))\n",
    "test1['x3'] = Series(compute_score(test1['NumberOfTime30-59DaysPastDueNotWorse'], cutx3, x3))\n",
    "test1['x5'] = Series(compute_score(test1['MonthlyIncome'], cutx5, x5))\n",
    "test1['x6'] = Series(compute_score(test1['NumberOfOpenCreditLinesAndLoans'], cutx6, x6))\n",
    "test1['x7'] = Series(compute_score(test1['NumberOfTimes90DaysLate'], cutx7, x7))\n",
    "test1['x9'] = Series(compute_score(test1['NumberOfTime60-89DaysPastDueNotWorse'], cutx9, x9))\n",
    "test1['Score'] = test1['x1'] + test1['x2'] + test1['x3'] + test1['x7'] +test1['x9']  + baseScore\n",
    "test1.to_csv('ScoreData.csv', index=False)"
   ]
  },
  {
   "cell_type": "code",
   "execution_count": 146,
   "metadata": {
    "ExecuteTime": {
     "end_time": "2020-08-20T14:48:40.914336Z",
     "start_time": "2020-08-20T14:48:40.828566Z"
    }
   },
   "outputs": [],
   "source": [
    "ScoreData = pd.read_csv(\"ScoreData.csv\")"
   ]
  },
  {
   "cell_type": "code",
   "execution_count": 147,
   "metadata": {
    "ExecuteTime": {
     "end_time": "2020-08-20T14:48:41.750102Z",
     "start_time": "2020-08-20T14:48:41.738154Z"
    },
    "scrolled": true
   },
   "outputs": [
    {
     "name": "stdout",
     "output_type": "stream",
     "text": [
      "<class 'pandas.core.frame.DataFrame'>\n",
      "RangeIndex: 36051 entries, 0 to 36050\n",
      "Data columns (total 20 columns):\n",
      " #   Column                                Non-Null Count  Dtype  \n",
      "---  ------                                --------------  -----  \n",
      " 0   SeriousDlqin2yrs                      36051 non-null  int64  \n",
      " 1   RevolvingUtilizationOfUnsecuredLines  36051 non-null  float64\n",
      " 2   age                                   36051 non-null  int64  \n",
      " 3   NumberOfTime30-59DaysPastDueNotWorse  36051 non-null  float64\n",
      " 4   DebtRatio                             36051 non-null  float64\n",
      " 5   MonthlyIncome                         36051 non-null  float64\n",
      " 6   NumberOfOpenCreditLinesAndLoans       36051 non-null  int64  \n",
      " 7   NumberOfTimes90DaysLate               36051 non-null  float64\n",
      " 8   NumberRealEstateLoansOrLines          36051 non-null  int64  \n",
      " 9   NumberOfTime60-89DaysPastDueNotWorse  36051 non-null  float64\n",
      " 10  NumberOfDependents                    36051 non-null  float64\n",
      " 11  BaseScore                             36051 non-null  float64\n",
      " 12  x1                                    36051 non-null  float64\n",
      " 13  x2                                    36051 non-null  float64\n",
      " 14  x3                                    36051 non-null  float64\n",
      " 15  x5                                    36051 non-null  float64\n",
      " 16  x6                                    36051 non-null  float64\n",
      " 17  x7                                    36051 non-null  float64\n",
      " 18  x9                                    36051 non-null  float64\n",
      " 19  Score                                 36051 non-null  float64\n",
      "dtypes: float64(16), int64(4)\n",
      "memory usage: 5.5 MB\n"
     ]
    }
   ],
   "source": [
    "ScoreData.info()"
   ]
  },
  {
   "cell_type": "code",
   "execution_count": 148,
   "metadata": {
    "ExecuteTime": {
     "end_time": "2020-08-20T14:48:58.925144Z",
     "start_time": "2020-08-20T14:48:58.899214Z"
    }
   },
   "outputs": [
    {
     "data": {
      "text/html": [
       "<div>\n",
       "<style scoped>\n",
       "    .dataframe tbody tr th:only-of-type {\n",
       "        vertical-align: middle;\n",
       "    }\n",
       "\n",
       "    .dataframe tbody tr th {\n",
       "        vertical-align: top;\n",
       "    }\n",
       "\n",
       "    .dataframe thead th {\n",
       "        text-align: right;\n",
       "    }\n",
       "</style>\n",
       "<table border=\"1\" class=\"dataframe\">\n",
       "  <thead>\n",
       "    <tr style=\"text-align: right;\">\n",
       "      <th></th>\n",
       "      <th>SeriousDlqin2yrs</th>\n",
       "      <th>RevolvingUtilizationOfUnsecuredLines</th>\n",
       "      <th>age</th>\n",
       "      <th>NumberOfTime30-59DaysPastDueNotWorse</th>\n",
       "      <th>DebtRatio</th>\n",
       "      <th>MonthlyIncome</th>\n",
       "      <th>NumberOfOpenCreditLinesAndLoans</th>\n",
       "      <th>NumberOfTimes90DaysLate</th>\n",
       "      <th>NumberRealEstateLoansOrLines</th>\n",
       "      <th>NumberOfTime60-89DaysPastDueNotWorse</th>\n",
       "      <th>NumberOfDependents</th>\n",
       "      <th>BaseScore</th>\n",
       "      <th>x1</th>\n",
       "      <th>x2</th>\n",
       "      <th>x3</th>\n",
       "      <th>x5</th>\n",
       "      <th>x6</th>\n",
       "      <th>x7</th>\n",
       "      <th>x9</th>\n",
       "      <th>Score</th>\n",
       "    </tr>\n",
       "  </thead>\n",
       "  <tbody>\n",
       "    <tr>\n",
       "      <th>1</th>\n",
       "      <td>0</td>\n",
       "      <td>0.000000</td>\n",
       "      <td>57</td>\n",
       "      <td>1.0</td>\n",
       "      <td>0.252606</td>\n",
       "      <td>2493.0</td>\n",
       "      <td>4</td>\n",
       "      <td>0.0</td>\n",
       "      <td>0</td>\n",
       "      <td>0.0</td>\n",
       "      <td>0.0</td>\n",
       "      <td>257.0</td>\n",
       "      <td>-22.0</td>\n",
       "      <td>-1.0</td>\n",
       "      <td>50.0</td>\n",
       "      <td>3.0</td>\n",
       "      <td>-0.0</td>\n",
       "      <td>89.0</td>\n",
       "      <td>51.0</td>\n",
       "      <td>424.0</td>\n",
       "    </tr>\n",
       "    <tr>\n",
       "      <th>2</th>\n",
       "      <td>0</td>\n",
       "      <td>0.391314</td>\n",
       "      <td>59</td>\n",
       "      <td>0.0</td>\n",
       "      <td>0.505475</td>\n",
       "      <td>6666.0</td>\n",
       "      <td>14</td>\n",
       "      <td>0.0</td>\n",
       "      <td>2</td>\n",
       "      <td>0.0</td>\n",
       "      <td>0.0</td>\n",
       "      <td>257.0</td>\n",
       "      <td>-5.0</td>\n",
       "      <td>-5.0</td>\n",
       "      <td>26.0</td>\n",
       "      <td>-1.0</td>\n",
       "      <td>-1.0</td>\n",
       "      <td>89.0</td>\n",
       "      <td>51.0</td>\n",
       "      <td>413.0</td>\n",
       "    </tr>\n",
       "    <tr>\n",
       "      <th>3</th>\n",
       "      <td>0</td>\n",
       "      <td>1.015857</td>\n",
       "      <td>41</td>\n",
       "      <td>0.0</td>\n",
       "      <td>0.477904</td>\n",
       "      <td>5000.0</td>\n",
       "      <td>6</td>\n",
       "      <td>2.0</td>\n",
       "      <td>2</td>\n",
       "      <td>0.0</td>\n",
       "      <td>0.0</td>\n",
       "      <td>257.0</td>\n",
       "      <td>19.0</td>\n",
       "      <td>4.0</td>\n",
       "      <td>26.0</td>\n",
       "      <td>1.0</td>\n",
       "      <td>-1.0</td>\n",
       "      <td>126.0</td>\n",
       "      <td>51.0</td>\n",
       "      <td>483.0</td>\n",
       "    </tr>\n",
       "    <tr>\n",
       "      <th>4</th>\n",
       "      <td>0</td>\n",
       "      <td>0.442614</td>\n",
       "      <td>57</td>\n",
       "      <td>0.0</td>\n",
       "      <td>0.570921</td>\n",
       "      <td>5350.0</td>\n",
       "      <td>16</td>\n",
       "      <td>0.0</td>\n",
       "      <td>1</td>\n",
       "      <td>0.0</td>\n",
       "      <td>2.0</td>\n",
       "      <td>257.0</td>\n",
       "      <td>-5.0</td>\n",
       "      <td>-1.0</td>\n",
       "      <td>26.0</td>\n",
       "      <td>1.0</td>\n",
       "      <td>-1.0</td>\n",
       "      <td>89.0</td>\n",
       "      <td>51.0</td>\n",
       "      <td>417.0</td>\n",
       "    </tr>\n",
       "    <tr>\n",
       "      <th>5</th>\n",
       "      <td>0</td>\n",
       "      <td>0.068379</td>\n",
       "      <td>61</td>\n",
       "      <td>0.0</td>\n",
       "      <td>0.270526</td>\n",
       "      <td>7392.0</td>\n",
       "      <td>8</td>\n",
       "      <td>0.0</td>\n",
       "      <td>2</td>\n",
       "      <td>0.0</td>\n",
       "      <td>0.0</td>\n",
       "      <td>257.0</td>\n",
       "      <td>-20.0</td>\n",
       "      <td>-5.0</td>\n",
       "      <td>26.0</td>\n",
       "      <td>-3.0</td>\n",
       "      <td>-1.0</td>\n",
       "      <td>89.0</td>\n",
       "      <td>51.0</td>\n",
       "      <td>398.0</td>\n",
       "    </tr>\n",
       "  </tbody>\n",
       "</table>\n",
       "</div>"
      ],
      "text/plain": [
       "   SeriousDlqin2yrs  RevolvingUtilizationOfUnsecuredLines  age  \\\n",
       "1                 0                              0.000000   57   \n",
       "2                 0                              0.391314   59   \n",
       "3                 0                              1.015857   41   \n",
       "4                 0                              0.442614   57   \n",
       "5                 0                              0.068379   61   \n",
       "\n",
       "   NumberOfTime30-59DaysPastDueNotWorse  DebtRatio  MonthlyIncome  \\\n",
       "1                                   1.0   0.252606         2493.0   \n",
       "2                                   0.0   0.505475         6666.0   \n",
       "3                                   0.0   0.477904         5000.0   \n",
       "4                                   0.0   0.570921         5350.0   \n",
       "5                                   0.0   0.270526         7392.0   \n",
       "\n",
       "   NumberOfOpenCreditLinesAndLoans  NumberOfTimes90DaysLate  \\\n",
       "1                                4                      0.0   \n",
       "2                               14                      0.0   \n",
       "3                                6                      2.0   \n",
       "4                               16                      0.0   \n",
       "5                                8                      0.0   \n",
       "\n",
       "   NumberRealEstateLoansOrLines  NumberOfTime60-89DaysPastDueNotWorse  \\\n",
       "1                             0                                   0.0   \n",
       "2                             2                                   0.0   \n",
       "3                             2                                   0.0   \n",
       "4                             1                                   0.0   \n",
       "5                             2                                   0.0   \n",
       "\n",
       "   NumberOfDependents  BaseScore    x1   x2    x3   x5   x6     x7    x9  \\\n",
       "1                 0.0      257.0 -22.0 -1.0  50.0  3.0 -0.0   89.0  51.0   \n",
       "2                 0.0      257.0  -5.0 -5.0  26.0 -1.0 -1.0   89.0  51.0   \n",
       "3                 0.0      257.0  19.0  4.0  26.0  1.0 -1.0  126.0  51.0   \n",
       "4                 2.0      257.0  -5.0 -1.0  26.0  1.0 -1.0   89.0  51.0   \n",
       "5                 0.0      257.0 -20.0 -5.0  26.0 -3.0 -1.0   89.0  51.0   \n",
       "\n",
       "   Score  \n",
       "1  424.0  \n",
       "2  413.0  \n",
       "3  483.0  \n",
       "4  417.0  \n",
       "5  398.0  "
      ]
     },
     "execution_count": 148,
     "metadata": {},
     "output_type": "execute_result"
    }
   ],
   "source": [
    "ScoreData[ScoreData.SeriousDlqin2yrs == 0]"
   ]
  },
  {
   "cell_type": "code",
   "execution_count": null,
   "metadata": {},
   "outputs": [],
   "source": []
  }
 ],
 "metadata": {
  "kernelspec": {
   "display_name": "Python 3",
   "language": "python",
   "name": "python3"
  },
  "language_info": {
   "codemirror_mode": {
    "name": "ipython",
    "version": 3
   },
   "file_extension": ".py",
   "mimetype": "text/x-python",
   "name": "python",
   "nbconvert_exporter": "python",
   "pygments_lexer": "ipython3",
   "version": "3.8.3"
  },
  "varInspector": {
   "cols": {
    "lenName": 16,
    "lenType": 16,
    "lenVar": 40
   },
   "kernels_config": {
    "python": {
     "delete_cmd_postfix": "",
     "delete_cmd_prefix": "del ",
     "library": "var_list.py",
     "varRefreshCmd": "print(var_dic_list())"
    },
    "r": {
     "delete_cmd_postfix": ") ",
     "delete_cmd_prefix": "rm(",
     "library": "var_list.r",
     "varRefreshCmd": "cat(var_dic_list()) "
    }
   },
   "types_to_exclude": [
    "module",
    "function",
    "builtin_function_or_method",
    "instance",
    "_Feature"
   ],
   "window_display": false
  }
 },
 "nbformat": 4,
 "nbformat_minor": 2
}
